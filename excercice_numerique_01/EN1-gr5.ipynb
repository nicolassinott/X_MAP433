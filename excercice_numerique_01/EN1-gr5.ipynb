{
 "cells": [
  {
   "cell_type": "markdown",
   "metadata": {},
   "source": [
    "# Exploration Numérique 1\n",
    "### MAP-433 - statistiques\n",
    "\n",
    "Gr 5\n",
    "\n",
    "Guilherme Vieira, João Andreotti, Nicolas Lopes"
   ]
  },
  {
   "cell_type": "markdown",
   "metadata": {},
   "source": [
    "## 1.\n",
    "\n",
    "Comme $S$ est une application continue et différenciable sur $\\mathcal{R^2}$, on cherche con minimum global en étudiant les minimums locales, qui satisfont l'equation:\n",
    "\n",
    "\\begin{equation*}\n",
    "    \\nabla_{\\beta_1, \\beta_2}S = \\vec{0}\n",
    "\\end{equation*}\n",
    "\n",
    "On établit la notation $\\vec{\\beta} = [\\beta_1, \\beta_2]^T$ et $\\tilde{t} = [\\vec{1}, \\vec{t}]$. Alors, on a:\n",
    "\n",
    "\n",
    "\\begin{equation*}\n",
    "    \\nabla_{\\vec{\\beta}}S(\\hat{\\vec{\\beta}}) = - 2 \\tilde{t}^T (\\vec{X} - \\tilde{t}\\vec{\\beta}) =  \\vec{0}\n",
    "\\end{equation*}\n",
    "\n",
    "Comme $\\tilde{t}^T \\tilde{t}$ est une matrice carré inversible (en supposant que la famille $\\{ \\vec{t}, \\vec{1} \\}$ est libre), alors: \n",
    "\n",
    "\n",
    "\\begin{equation*}\n",
    "    \\hat{\\vec{\\beta}} = \\left( \\tilde{t}^T \\tilde{t}  \\right)^{-1} \\tilde{t}^T \\vec{X}\n",
    "\\end{equation*}\n",
    "\n",
    "\n",
    "On peut montrer que cette solution est unique et correspond au minimum globale de la fonction $S$.\n",
    "\n",
    "En dévelopant les expressions on arrive a montrer que:\n",
    "\n",
    "\n",
    "\\begin{equation*}\n",
    "    \\hat{\\beta_2} = \\frac{\\sum_{i = 1}^n (t_i - \\bar{t}) X_i}{ \\sum_{i=1}^n (t_i - t)^2}\n",
    "\\end{equation*}\n",
    "\n",
    "\\begin{equation*}\n",
    "    \\hat{\\beta_1} = \\bar{X} - \\hat{\\beta_2}\\bar{t}\n",
    "\\end{equation*}"
   ]
  },
  {
   "cell_type": "markdown",
   "metadata": {},
   "source": [
    "# 2"
   ]
  },
  {
   "cell_type": "code",
   "execution_count": 1,
   "metadata": {},
   "outputs": [],
   "source": [
    "import pandas as pd\n",
    "import numpy as np\n",
    "import matplotlib.pyplot as plt\n",
    "\n",
    "from scipy.stats import chi2\n",
    "from scipy.stats import t as student\n",
    "\n",
    "\n",
    "from typing import Tuple\n"
   ]
  },
  {
   "cell_type": "code",
   "execution_count": 2,
   "metadata": {},
   "outputs": [
    {
     "data": {
      "text/html": [
       "<div>\n",
       "<style scoped>\n",
       "    .dataframe tbody tr th:only-of-type {\n",
       "        vertical-align: middle;\n",
       "    }\n",
       "\n",
       "    .dataframe tbody tr th {\n",
       "        vertical-align: top;\n",
       "    }\n",
       "\n",
       "    .dataframe thead th {\n",
       "        text-align: right;\n",
       "    }\n",
       "</style>\n",
       "<table border=\"1\" class=\"dataframe\">\n",
       "  <thead>\n",
       "    <tr style=\"text-align: right;\">\n",
       "      <th></th>\n",
       "      <th>Year</th>\n",
       "      <th>Jan</th>\n",
       "      <th>Feb</th>\n",
       "      <th>Mar</th>\n",
       "      <th>Apr</th>\n",
       "      <th>May</th>\n",
       "      <th>Jun</th>\n",
       "      <th>Jul</th>\n",
       "      <th>Aug</th>\n",
       "      <th>Sep</th>\n",
       "      <th>Oct</th>\n",
       "      <th>Nov</th>\n",
       "      <th>Dec</th>\n",
       "      <th>J-D</th>\n",
       "      <th>D-N</th>\n",
       "      <th>DJF</th>\n",
       "      <th>MAM</th>\n",
       "      <th>JJA</th>\n",
       "      <th>SON</th>\n",
       "    </tr>\n",
       "  </thead>\n",
       "  <tbody>\n",
       "    <tr>\n",
       "      <th>1</th>\n",
       "      <td>1881</td>\n",
       "      <td>-0.19</td>\n",
       "      <td>-0.14</td>\n",
       "      <td>0.04</td>\n",
       "      <td>0.05</td>\n",
       "      <td>0.07</td>\n",
       "      <td>-0.18</td>\n",
       "      <td>0.01</td>\n",
       "      <td>-.03</td>\n",
       "      <td>-.15</td>\n",
       "      <td>-.22</td>\n",
       "      <td>-.18</td>\n",
       "      <td>-.07</td>\n",
       "      <td>-0.08</td>\n",
       "      <td>-.09</td>\n",
       "      <td>-.17</td>\n",
       "      <td>0.05</td>\n",
       "      <td>-.07</td>\n",
       "      <td>-.18</td>\n",
       "    </tr>\n",
       "    <tr>\n",
       "      <th>2</th>\n",
       "      <td>1882</td>\n",
       "      <td>0.16</td>\n",
       "      <td>0.14</td>\n",
       "      <td>0.05</td>\n",
       "      <td>-0.16</td>\n",
       "      <td>-0.13</td>\n",
       "      <td>-0.22</td>\n",
       "      <td>-0.16</td>\n",
       "      <td>-.07</td>\n",
       "      <td>-.14</td>\n",
       "      <td>-.23</td>\n",
       "      <td>-.17</td>\n",
       "      <td>-.36</td>\n",
       "      <td>-0.11</td>\n",
       "      <td>-.08</td>\n",
       "      <td>.08</td>\n",
       "      <td>-0.08</td>\n",
       "      <td>-.15</td>\n",
       "      <td>-.18</td>\n",
       "    </tr>\n",
       "    <tr>\n",
       "      <th>3</th>\n",
       "      <td>1883</td>\n",
       "      <td>-0.29</td>\n",
       "      <td>-0.37</td>\n",
       "      <td>-0.12</td>\n",
       "      <td>-0.19</td>\n",
       "      <td>-0.18</td>\n",
       "      <td>-0.07</td>\n",
       "      <td>-0.07</td>\n",
       "      <td>-.14</td>\n",
       "      <td>-.22</td>\n",
       "      <td>-.11</td>\n",
       "      <td>-.24</td>\n",
       "      <td>-.11</td>\n",
       "      <td>-0.18</td>\n",
       "      <td>-.20</td>\n",
       "      <td>-.34</td>\n",
       "      <td>-0.16</td>\n",
       "      <td>-.09</td>\n",
       "      <td>-.19</td>\n",
       "    </tr>\n",
       "    <tr>\n",
       "      <th>4</th>\n",
       "      <td>1884</td>\n",
       "      <td>-0.13</td>\n",
       "      <td>-0.08</td>\n",
       "      <td>-0.37</td>\n",
       "      <td>-0.40</td>\n",
       "      <td>-0.34</td>\n",
       "      <td>-0.35</td>\n",
       "      <td>-0.31</td>\n",
       "      <td>-.28</td>\n",
       "      <td>-.27</td>\n",
       "      <td>-.25</td>\n",
       "      <td>-.33</td>\n",
       "      <td>-.31</td>\n",
       "      <td>-0.28</td>\n",
       "      <td>-.27</td>\n",
       "      <td>-.11</td>\n",
       "      <td>-0.37</td>\n",
       "      <td>-.31</td>\n",
       "      <td>-.28</td>\n",
       "    </tr>\n",
       "    <tr>\n",
       "      <th>5</th>\n",
       "      <td>1885</td>\n",
       "      <td>-0.58</td>\n",
       "      <td>-0.33</td>\n",
       "      <td>-0.26</td>\n",
       "      <td>-0.42</td>\n",
       "      <td>-0.45</td>\n",
       "      <td>-0.44</td>\n",
       "      <td>-0.34</td>\n",
       "      <td>-.31</td>\n",
       "      <td>-.29</td>\n",
       "      <td>-.24</td>\n",
       "      <td>-.24</td>\n",
       "      <td>-.10</td>\n",
       "      <td>-0.33</td>\n",
       "      <td>-.35</td>\n",
       "      <td>-.41</td>\n",
       "      <td>-0.38</td>\n",
       "      <td>-.36</td>\n",
       "      <td>-.25</td>\n",
       "    </tr>\n",
       "    <tr>\n",
       "      <th>...</th>\n",
       "      <td>...</td>\n",
       "      <td>...</td>\n",
       "      <td>...</td>\n",
       "      <td>...</td>\n",
       "      <td>...</td>\n",
       "      <td>...</td>\n",
       "      <td>...</td>\n",
       "      <td>...</td>\n",
       "      <td>...</td>\n",
       "      <td>...</td>\n",
       "      <td>...</td>\n",
       "      <td>...</td>\n",
       "      <td>...</td>\n",
       "      <td>...</td>\n",
       "      <td>...</td>\n",
       "      <td>...</td>\n",
       "      <td>...</td>\n",
       "      <td>...</td>\n",
       "      <td>...</td>\n",
       "    </tr>\n",
       "    <tr>\n",
       "      <th>136</th>\n",
       "      <td>2016</td>\n",
       "      <td>1.17</td>\n",
       "      <td>1.37</td>\n",
       "      <td>1.36</td>\n",
       "      <td>1.10</td>\n",
       "      <td>0.95</td>\n",
       "      <td>0.80</td>\n",
       "      <td>0.84</td>\n",
       "      <td>1.02</td>\n",
       "      <td>.90</td>\n",
       "      <td>.88</td>\n",
       "      <td>.91</td>\n",
       "      <td>.86</td>\n",
       "      <td>1.01</td>\n",
       "      <td>1.04</td>\n",
       "      <td>1.23</td>\n",
       "      <td>1.14</td>\n",
       "      <td>.89</td>\n",
       "      <td>.90</td>\n",
       "    </tr>\n",
       "    <tr>\n",
       "      <th>137</th>\n",
       "      <td>2017</td>\n",
       "      <td>1.02</td>\n",
       "      <td>1.14</td>\n",
       "      <td>1.16</td>\n",
       "      <td>0.94</td>\n",
       "      <td>0.91</td>\n",
       "      <td>0.72</td>\n",
       "      <td>0.82</td>\n",
       "      <td>.87</td>\n",
       "      <td>.77</td>\n",
       "      <td>.90</td>\n",
       "      <td>.88</td>\n",
       "      <td>.93</td>\n",
       "      <td>0.92</td>\n",
       "      <td>.92</td>\n",
       "      <td>1.01</td>\n",
       "      <td>1.01</td>\n",
       "      <td>.80</td>\n",
       "      <td>.85</td>\n",
       "    </tr>\n",
       "    <tr>\n",
       "      <th>138</th>\n",
       "      <td>2018</td>\n",
       "      <td>0.82</td>\n",
       "      <td>0.84</td>\n",
       "      <td>0.88</td>\n",
       "      <td>0.89</td>\n",
       "      <td>0.82</td>\n",
       "      <td>0.77</td>\n",
       "      <td>0.82</td>\n",
       "      <td>.76</td>\n",
       "      <td>.80</td>\n",
       "      <td>1.01</td>\n",
       "      <td>.82</td>\n",
       "      <td>.92</td>\n",
       "      <td>0.85</td>\n",
       "      <td>.85</td>\n",
       "      <td>.86</td>\n",
       "      <td>0.86</td>\n",
       "      <td>.79</td>\n",
       "      <td>.88</td>\n",
       "    </tr>\n",
       "    <tr>\n",
       "      <th>139</th>\n",
       "      <td>2019</td>\n",
       "      <td>0.93</td>\n",
       "      <td>0.95</td>\n",
       "      <td>1.17</td>\n",
       "      <td>1.01</td>\n",
       "      <td>0.85</td>\n",
       "      <td>0.91</td>\n",
       "      <td>0.94</td>\n",
       "      <td>.94</td>\n",
       "      <td>.92</td>\n",
       "      <td>1.01</td>\n",
       "      <td>.99</td>\n",
       "      <td>1.09</td>\n",
       "      <td>0.98</td>\n",
       "      <td>.96</td>\n",
       "      <td>.93</td>\n",
       "      <td>1.01</td>\n",
       "      <td>.93</td>\n",
       "      <td>.97</td>\n",
       "    </tr>\n",
       "    <tr>\n",
       "      <th>140</th>\n",
       "      <td>2020</td>\n",
       "      <td>1.16</td>\n",
       "      <td>1.24</td>\n",
       "      <td>1.17</td>\n",
       "      <td>1.13</td>\n",
       "      <td>1.02</td>\n",
       "      <td>0.92</td>\n",
       "      <td>0.90</td>\n",
       "      <td>.87</td>\n",
       "      <td>.98</td>\n",
       "      <td>.88</td>\n",
       "      <td>1.10</td>\n",
       "      <td>.81</td>\n",
       "      <td>1.01</td>\n",
       "      <td>1.04</td>\n",
       "      <td>1.16</td>\n",
       "      <td>1.10</td>\n",
       "      <td>.89</td>\n",
       "      <td>.99</td>\n",
       "    </tr>\n",
       "  </tbody>\n",
       "</table>\n",
       "<p>140 rows × 19 columns</p>\n",
       "</div>"
      ],
      "text/plain": [
       "     Year   Jan   Feb   Mar   Apr   May   Jun   Jul   Aug   Sep   Oct   Nov  \\\n",
       "1    1881 -0.19 -0.14  0.04  0.05  0.07 -0.18  0.01  -.03  -.15  -.22  -.18   \n",
       "2    1882  0.16  0.14  0.05 -0.16 -0.13 -0.22 -0.16  -.07  -.14  -.23  -.17   \n",
       "3    1883 -0.29 -0.37 -0.12 -0.19 -0.18 -0.07 -0.07  -.14  -.22  -.11  -.24   \n",
       "4    1884 -0.13 -0.08 -0.37 -0.40 -0.34 -0.35 -0.31  -.28  -.27  -.25  -.33   \n",
       "5    1885 -0.58 -0.33 -0.26 -0.42 -0.45 -0.44 -0.34  -.31  -.29  -.24  -.24   \n",
       "..    ...   ...   ...   ...   ...   ...   ...   ...   ...   ...   ...   ...   \n",
       "136  2016  1.17  1.37  1.36  1.10  0.95  0.80  0.84  1.02   .90   .88   .91   \n",
       "137  2017  1.02  1.14  1.16  0.94  0.91  0.72  0.82   .87   .77   .90   .88   \n",
       "138  2018  0.82  0.84  0.88  0.89  0.82  0.77  0.82   .76   .80  1.01   .82   \n",
       "139  2019  0.93  0.95  1.17  1.01  0.85  0.91  0.94   .94   .92  1.01   .99   \n",
       "140  2020  1.16  1.24  1.17  1.13  1.02  0.92  0.90   .87   .98   .88  1.10   \n",
       "\n",
       "      Dec   J-D   D-N   DJF   MAM   JJA   SON  \n",
       "1    -.07 -0.08  -.09  -.17  0.05  -.07  -.18  \n",
       "2    -.36 -0.11  -.08   .08 -0.08  -.15  -.18  \n",
       "3    -.11 -0.18  -.20  -.34 -0.16  -.09  -.19  \n",
       "4    -.31 -0.28  -.27  -.11 -0.37  -.31  -.28  \n",
       "5    -.10 -0.33  -.35  -.41 -0.38  -.36  -.25  \n",
       "..    ...   ...   ...   ...   ...   ...   ...  \n",
       "136   .86  1.01  1.04  1.23  1.14   .89   .90  \n",
       "137   .93  0.92   .92  1.01  1.01   .80   .85  \n",
       "138   .92  0.85   .85   .86  0.86   .79   .88  \n",
       "139  1.09  0.98   .96   .93  1.01   .93   .97  \n",
       "140   .81  1.01  1.04  1.16  1.10   .89   .99  \n",
       "\n",
       "[140 rows x 19 columns]"
      ]
     },
     "execution_count": 2,
     "metadata": {},
     "output_type": "execute_result"
    }
   ],
   "source": [
    "# Reading the data into a pandas dataframe\n",
    "GLB_data = pd.read_csv(\"GLB.Ts+dSST.csv\", header=1)\n",
    "GLB_data = GLB_data[1:-2] # removing years with missing values\n",
    "GLB_data[\"J-D\"] = GLB_data[\"J-D\"].astype(float) # Converts means to floats\n",
    "GLB_data"
   ]
  },
  {
   "cell_type": "code",
   "execution_count": 3,
   "metadata": {},
   "outputs": [
    {
     "data": {
      "text/plain": [
       "Text(0, 0.5, 'Temperature Anomaly [°C]')"
      ]
     },
     "execution_count": 3,
     "metadata": {},
     "output_type": "execute_result"
    },
    {
     "data": {
      "image/png": "[encoded data removed]",
      "text/plain": [
       "<Figure size 432x288 with 1 Axes>"
      ]
     },
     "metadata": {
      "needs_background": "light"
     },
     "output_type": "display_data"
    }
   ],
   "source": [
    "# Plotting and visualizing the data\n",
    "ax = GLB_data.plot(\n",
    "    x='Year', \n",
    "    y='J-D')\n",
    "\n",
    "ax.set_ylabel(\"Temperature Anomaly [°C]\")"
   ]
  },
  {
   "cell_type": "markdown",
   "metadata": {},
   "source": [
    "# 3\n",
    "Estimation des paramètres"
   ]
  },
  {
   "cell_type": "code",
   "execution_count": 4,
   "metadata": {},
   "outputs": [],
   "source": [
    "# We convert the data to numpy arrays\n",
    "t = np.array(GLB_data['Year'], dtype=int)\n",
    "X = np.array(GLB_data['J-D'], dtype=float)\n",
    "one = np.ones_like(t)"
   ]
  },
  {
   "cell_type": "code",
   "execution_count": 5,
   "metadata": {},
   "outputs": [],
   "source": [
    "# Funciton to calculate estimators\n",
    "def calculate_estimators(t: np.array, X: np.array) -> Tuple[float, float, float]:\n",
    "    t_bar = t.mean()\n",
    "    X_bar = X.mean()\n",
    "    n = len(t)\n",
    "\n",
    "    beta_2_est = (t - t_bar) @ X / ((t - t_bar) @ (t - t_bar))\n",
    "    beta_1_est = X_bar - beta_2_est * t_bar\n",
    "    X_hat = beta_1_est + beta_2_est * t\n",
    "    epsilon_hat = X - X_hat\n",
    "    sigma_2_hat = epsilon_hat @ epsilon_hat / (n - 2)\n",
    "\n",
    "    return beta_1_est, beta_2_est, sigma_2_hat\n"
   ]
  },
  {
   "cell_type": "code",
   "execution_count": 6,
   "metadata": {},
   "outputs": [],
   "source": [
    "delta_t = 30\n",
    "t_len = 10"
   ]
  },
  {
   "cell_type": "code",
   "execution_count": 7,
   "metadata": {},
   "outputs": [
    {
     "data": {
      "text/plain": [
       "array([[ 1.17521869e+01, -6.34037820e-03,  1.12774861e-02],\n",
       "       [ 8.06885206e+00, -4.38932147e-03,  1.22446194e-02],\n",
       "       [-9.95107453e+00,  5.03893215e-03,  1.02644319e-02],\n",
       "       [-2.24428024e+01,  1.15461624e-02,  8.35584830e-03],\n",
       "       [-2.04927208e+01,  1.05361513e-02,  1.33537121e-02],\n",
       "       [-4.42806452e+00,  2.25806452e-03,  1.43103687e-02],\n",
       "       [ 6.02434038e+00, -3.08787542e-03,  1.06317909e-02],\n",
       "       [-1.01532614e+01,  5.16573971e-03,  1.00866344e-02],\n",
       "       [-2.86208951e+01,  1.45383760e-02,  1.06376868e-02],\n",
       "       [-3.27925488e+01,  1.66340378e-02,  1.01454701e-02],\n",
       "       [-3.46579577e+01,  1.75795328e-02,  8.31830923e-03]])"
      ]
     },
     "execution_count": 7,
     "metadata": {},
     "output_type": "execute_result"
    }
   ],
   "source": [
    "# calculating the estimators every 10 years in a 30 years interval \n",
    "t0 = t[0]\n",
    "tf = t[-1]\n",
    "\n",
    "ranges = [\n",
    "    range(time, time + delta_t) \n",
    "    for time in range(0, len(t) - delta_t, t_len)\n",
    "]\n",
    "ranges = np.array(ranges)\n",
    "times = ranges + t0\n",
    "estimators = np.array([\n",
    "    calculate_estimators(t[r], X[r])\n",
    "    for r in ranges\n",
    "])\n",
    "\n",
    "estimators"
   ]
  },
  {
   "cell_type": "markdown",
   "metadata": {},
   "source": [
    "$$\n",
    "[\\hat{\\beta}_1, \\hat{\\beta}_2, \\hat{\\sigma}^2]\n",
    "$$"
   ]
  },
  {
   "cell_type": "markdown",
   "metadata": {},
   "source": [
    "# 4"
   ]
  },
  {
   "cell_type": "markdown",
   "metadata": {},
   "source": [
    "I) Déterminons d'abord pour $\\sigma^{2}$. Nous avons que :\n",
    "\n",
    "$$\n",
    "\\frac{n-2}{\\sigma^{2}} \\hat{\\sigma}^{2}\\sim \\chi^{2}_{(n-2)} \n",
    "$$\n",
    "\n",
    "Nous cherchons avoir un intervale de confiance avec $\\alpha$. En utilisant les quantiles d'une loi de $\\chi^{2}_{(n-2)}$ nous pouvons écrire que:\n",
    "\n",
    "$$\n",
    "\\mathbb{P}\\left[q_{\\alpha/2}^{\\chi^{2}_{n-2}} \\leq \\frac{n-2}{\\sigma^{2}}\\hat{\\sigma}^{2} \\leq q_{1-\\alpha/2}^{\\chi^{2}_{n-2}} \\right] = 1- \\alpha\n",
    "$$\n",
    "\n",
    "Donc:\n",
    "\n",
    "$$\n",
    "\\mathbb{P}\\left[\\frac{(n-2)\\hat{\\sigma}^{2}}{q^{\\chi^{2}_{(n-2)}}_{1-\\alpha/2}} \\leq \\sigma^{2} \\leq \\frac{(n-2)\\hat{\\sigma}^{2}}{q^{\\chi^{2}_{(n-2)}}_{\\alpha/2}} \\right] = 1- \\alpha\n",
    "$$\n",
    "\n",
    "Nous avons donc que l'intervale de confiance pour $\\sigma^{2}$ avec $\\alpha$ est:\n",
    "\n",
    "$$\n",
    "\\boxed{I_{1-\\alpha} (\\sigma^{2}) = \\left[\\frac{(n-2)\\hat{\\sigma}^{2}}{q^{\\chi^{2}_{(n-2)}}_{1-\\alpha/2}} , \\frac{(n-2)\\hat{\\sigma}^{2}}{q^{\\chi^{2}_{(n-2)}}_{\\alpha/2}} \\right]}\n",
    "$$"
   ]
  },
  {
   "cell_type": "markdown",
   "metadata": {},
   "source": [
    "II) Soit $j\\in \\{1,2\\}$. Déterminons l'intervale de confience $\\alpha$ pour $\\beta_{j}$. Nous avons que :\n",
    "\n",
    "$$\n",
    "\\frac{\\hat{\\beta}_{j} - \\beta_{j}}{\\hat{\\sigma}_{j}} \\sim T_{n-2}\n",
    "$$\n",
    "\n",
    "Nous cherchons avoir un intervale de confiance avec $\\alpha$. En utilisant les quantiles d'une loi de $\\chi^{2}_{(n-2)}$ nous pouvons écrire que:\n",
    "\n",
    "$$\n",
    "\\mathbb{P}\\left[q_{\\alpha/2}^{T_{n-2}} \\leq \\frac{\\hat{\\beta}_{j} - \\beta_{j}}{\\hat{\\sigma}_{j}} \\leq q_{1-\\alpha/2}^{T_{n-2}} \\right] = 1- \\alpha\n",
    "$$\n",
    "\n",
    "Donc:\n",
    "\n",
    "$$\n",
    "\\mathbb{P}\\left[ \\hat{\\beta}_{j} - \\hat{\\sigma}_{j}q_{1-\\alpha/2}^{T_{n-2}} \\leq \\beta_{j}\\leq \\hat{\\beta}_{j}  - \\hat{\\sigma}_{j}q_{\\alpha/2}^{T_{n-2}}\\right] = 1- \\alpha\n",
    "$$\n",
    "\n",
    "\n",
    "Nous avons donc que l'intervale de confiance pour $\\beta_{j}$ avec $\\alpha$ est:\n",
    "\n",
    "$$\n",
    "\\boxed{I_{1-\\alpha} (\\beta_{j}) = \\left[ \\hat{\\beta}_{j} - \\hat{\\sigma}_{j}q_{1-\\alpha/2}^{T_{n-2}} ,\\hat{\\beta}_{j}  - \\hat{\\sigma}_{j}q_{\\alpha/2}^{T_{n-2}}\\right]}\n",
    "$$"
   ]
  },
  {
   "cell_type": "markdown",
   "metadata": {},
   "source": [
    "III)\n",
    "\n",
    "L'intervalle de confiance autour de la droite de régression est determiné par le résidu de prédiction:\n",
    "$$\n",
    "\\hat{\\varepsilon}_i = X_i - \\hat{X}_i = X_i - \\hat{\\beta}_2 t - \\hat{\\beta}_1\n",
    "$$\n",
    "\n",
    "Nous avons, donc que:\n",
    "$$\n",
    "\\frac{\\hat{\\varepsilon}_i}{\\hat{\\sigma}_1} \\sim T_{n-2}\n",
    "$$\n",
    "\n",
    "Or, cela implique que:\n",
    "$$\n",
    "\\boxed{I_{1-\\alpha} (X_{j}) = \\left[ \\hat{X}_{j} - \\hat{\\sigma}_{1}q_{1-\\alpha/2}^{T_{n-2}} ,\\hat{X}_{j}  - \\hat{\\sigma}_{1}q_{\\alpha/2}^{T_{n-2}}\\right]}\n",
    "$$"
   ]
  },
  {
   "cell_type": "markdown",
   "metadata": {},
   "source": [
    "Obtenons numériquement leur valeur pour $\\alpha = 0.05$"
   ]
  },
  {
   "cell_type": "code",
   "execution_count": 8,
   "metadata": {},
   "outputs": [],
   "source": [
    "def sigma_2_confidence_interval(t: np.array, X: np.array, n: int, alpha: float):\n",
    "    beta_1_hat, beta_2_hat, sigma_2_hat = calculate_estimators(t, X)\n",
    "    lower_bound = (n - 2) * sigma_2_hat / chi2.ppf(1 - alpha / 2, n - 2)\n",
    "    upper_bound = (n - 2) * sigma_2_hat / chi2.ppf(alpha / 2, n - 2)\n",
    "    return lower_bound, upper_bound"
   ]
  },
  {
   "cell_type": "code",
   "execution_count": 9,
   "metadata": {},
   "outputs": [],
   "source": [
    "def beta_1_confidence_interval(t: np.array, X: np.array, n: int, alpha: float):\n",
    "    beta_1_hat, beta_2_hat, sigma_2_hat = calculate_estimators(t, X)\n",
    "    sigma_2_j_hat = sigma_2_hat * (t**2).sum() / (n * ((t - t.mean())**2).sum())\n",
    "    sigma_j_hat = np.sqrt(sigma_2_j_hat)\n",
    "    lower_bound = beta_1_hat - sigma_j_hat * student.ppf(1 - alpha / 2, n - 2)      \n",
    "    upper_bound = beta_1_hat - sigma_j_hat * student.ppf(alpha / 2, n - 2)\n",
    "    return lower_bound, upper_bound"
   ]
  },
  {
   "cell_type": "code",
   "execution_count": 10,
   "metadata": {},
   "outputs": [],
   "source": [
    "def beta_2_confidence_interval(t: np.array, X: np.array, n: int, alpha: float):\n",
    "    beta_1_hat, beta_2_hat, sigma_2_hat = calculate_estimators(t, X)\n",
    "    sigma_2_j_hat = sigma_2_hat / ((t - t.mean())**2).sum()\n",
    "    sigma_j_hat = np.sqrt(sigma_2_j_hat)\n",
    "    lower_bound = beta_2_hat - sigma_j_hat * student.ppf(1 - alpha / 2, n - 2)      \n",
    "    upper_bound = beta_2_hat - sigma_j_hat * student.ppf(alpha / 2, n - 2)\n",
    "    return lower_bound, upper_bound"
   ]
  },
  {
   "cell_type": "code",
   "execution_count": 11,
   "metadata": {},
   "outputs": [],
   "source": [
    "def prediction_uncertainty(t: np.array, X: np.array, n: int, alpha: float):\n",
    "    _, _, sigma_2_hat = calculate_estimators(t, X)\n",
    "    return student.ppf(1 - alpha / 2, n - 2) * np.sqrt(sigma_2_hat)"
   ]
  },
  {
   "cell_type": "code",
   "execution_count": 12,
   "metadata": {},
   "outputs": [
    {
     "data": {
      "text/plain": [
       "[((3.0545574932863424, 20.44981625532322),\n",
       "  (-0.010928897693893522, -0.001751858702102027),\n",
       "  (0.00710220393377239, 0.020627938802648297),\n",
       "  0.2175316387139444),\n",
       " ((-1.0418639664336187, 17.17956808211771),\n",
       "  (-0.009170545312657163, 0.00039190237606094667),\n",
       "  (0.007711273901226003, 0.022396947146019072),\n",
       "  0.22666732893952182),\n",
       " ((-18.336410734135857, -1.565738320369146),\n",
       "  (0.0006613541765281101, 0.009416510117131512),\n",
       "  (0.006464214458780436, 0.0187749354293873),\n",
       "  0.20753136394637806),\n",
       " ((-30.047984434606093, -14.837620311407996),\n",
       "  (0.007596484279764446, 0.01549584052557482),\n",
       "  (0.005262248886136066, 0.015283896238369787),\n",
       "  0.1872455713082802),\n",
       " ((-30.15689952771755, -10.828542074062213),\n",
       "  (0.005543083805717633, 0.015529218752680589),\n",
       "  (0.008409745356877338, 0.024425616919081964),\n",
       "  0.23671037045548984),\n",
       " ((-14.484113388846628, 5.627984356588561),\n",
       "  (-0.0029107606463023663, 0.0074268896785604326),\n",
       "  (0.009012217417444684, 0.026175462025133083),\n",
       "  0.24504265674697231),\n",
       " ((-2.687937492484565, 14.73661824888056),\n",
       "  (-0.007543100438659266, 0.001367349604398976),\n",
       "  (0.006695565515366034, 0.019446881135491645),\n",
       "  0.21121244023033292),\n",
       " ((-18.68262894354497, -1.6238938595696037),\n",
       "  (0.0008262409366423477, 0.009505238484937185),\n",
       "  (0.006352243185354862, 0.018449721369439787),\n",
       "  0.20572611283046585),\n",
       " ((-37.42471668582555, -19.817073451363925),\n",
       "  (0.010081915777548524, 0.018994836169058824),\n",
       "  (0.006699278610140873, 0.01945766560359451),\n",
       "  0.21127099712950825),\n",
       " ((-41.433798097935636, -24.15129941782263),\n",
       "  (0.012281901212759874, 0.02098617442683969),\n",
       "  (0.006389296075051177, 0.018557339335390093),\n",
       "  0.20632524475119873),\n",
       " ((-42.52189026858127, -26.794025193042778),\n",
       "  (0.013638736741149286, 0.0215203288873268),\n",
       "  (0.005238607970971887, 0.01521523257342962),\n",
       "  0.18682449282023306)]"
      ]
     },
     "execution_count": 12,
     "metadata": {},
     "output_type": "execute_result"
    }
   ],
   "source": [
    "alpha = 0.05\n",
    "n = len(ranges[0])\n",
    "\n",
    "confidence_intervals = [\n",
    "    (\n",
    "        beta_1_confidence_interval(t[r], X[r], n, alpha),\n",
    "        beta_2_confidence_interval(t[r], X[r], n, alpha),\n",
    "        sigma_2_confidence_interval(t[r], X[r], n, alpha),\n",
    "        prediction_uncertainty(t[r], X[r], n, alpha)\n",
    "    )\n",
    "    for r in ranges\n",
    "]\n",
    "\n",
    "confidence_intervals\n"
   ]
  },
  {
   "cell_type": "markdown",
   "metadata": {},
   "source": [
    "$$\n",
    "((\\beta_{1, min}, \\beta_{1, max}), (\\beta_{2, min}, \\beta_{2, max}), (\\sigma^{2}_{min}, \\sigma^{2}_{max}), \\hat{\\sigma}_{1}q_{1-\\alpha/2}^{T_{n-2}})\n",
    "$$"
   ]
  },
  {
   "cell_type": "markdown",
   "metadata": {},
   "source": [
    "# 5"
   ]
  },
  {
   "cell_type": "code",
   "execution_count": 13,
   "metadata": {},
   "outputs": [],
   "source": [
    "def plot_interval(X, t, plot_range,  beta_1_hat, beta_2_hat, epsilon_ci):\n",
    "    plot_lower, plot_upper = plot_range[0], plot_range[-1]\n",
    "    plt.plot(plot_range, beta_1_hat + beta_2_hat * plot_range)\n",
    "    max_left = beta_1_hat + beta_2_hat * plot_lower + epsilon_ci\n",
    "    min_left = beta_1_hat + beta_2_hat * plot_lower - epsilon_ci\n",
    "    min_right = beta_1_hat + beta_2_hat * plot_upper - epsilon_ci\n",
    "    max_right = beta_1_hat + beta_2_hat * plot_upper + epsilon_ci\n",
    "    plt.fill_between([plot_lower, plot_upper], \n",
    "        [max_left, max_right], \n",
    "        [min_left, min_right],\n",
    "        alpha=0.35,\n",
    "    )"
   ]
  },
  {
   "cell_type": "markdown",
   "metadata": {},
   "source": [
    "Pour changer les périodes pour lesquelles la droite de régression est visualisée, changer la variable <em>\"plot_periods\"</em>"
   ]
  },
  {
   "cell_type": "code",
   "execution_count": 14,
   "metadata": {},
   "outputs": [
    {
     "data": {
      "image/png": "[encoded data removed]",
      "text/plain": [
       "<Figure size 432x288 with 1 Axes>"
      ]
     },
     "metadata": {
      "needs_background": "light"
     },
     "output_type": "display_data"
    }
   ],
   "source": [
    "plot_periods = [0, 3, 7, 10] # Change this value to change plotted periods [0, 10]\n",
    "\n",
    "lost_pts = t[-1] - times[-1][-1]\n",
    "plt.plot(t[:-lost_pts], X[:-lost_pts])\n",
    "for time_interval in plot_periods:\n",
    "    beta_1_hat, beta_2_hat, _, = estimators[time_interval]\n",
    "    beta_1_interval, beta_2_interval, _, prediction_uncertainty = confidence_intervals[time_interval]\n",
    "    time = times[time_interval]\n",
    "    rang = ranges[time_interval]\n",
    "    \n",
    "    plot_interval(\n",
    "        X, \n",
    "        t,\n",
    "        time,\n",
    "        beta_1_hat, \n",
    "        beta_2_hat,\n",
    "        prediction_uncertainty\n",
    "    )\n",
    "    \n",
    "plt.xlabel(\"Year [-]\")\n",
    "plt.ylabel(\"J-D [°]\")\n",
    "plt.grid()\n",
    "plt.show()"
   ]
  },
  {
   "cell_type": "markdown",
   "metadata": {},
   "source": [
    "# 6\n"
   ]
  },
  {
   "cell_type": "code",
   "execution_count": 15,
   "metadata": {},
   "outputs": [],
   "source": [
    "# Calculating the p-value\n",
    "def p_value(t, X, n):\n",
    "    beta_1_hat, beta_2_hat, sigma_2_hat = calculate_estimators(t, X)\n",
    "    sigma_2_j_hat = sigma_2_hat / ((t - t.mean()) @ (t - t.mean()))\n",
    "    return 2 * (1 - student.cdf(np.abs(beta_2_hat) / np.sqrt(sigma_2_j_hat), n - 2))"
   ]
  },
  {
   "cell_type": "code",
   "execution_count": 16,
   "metadata": {},
   "outputs": [
    {
     "data": {
      "text/plain": [
       "[0.008505785813796463,\n",
       " 0.07047873226794543,\n",
       " 0.025598638615577318,\n",
       " 1.8893823596766168e-06,\n",
       " 0.00017604854704034167,\n",
       " 0.3784841191076409,\n",
       " 0.16672427700696524,\n",
       " 0.021350839327671567,\n",
       " 2.9776871546260963e-07,\n",
       " 1.5792273933001866e-08,\n",
       " 6.776170735633968e-10]"
      ]
     },
     "execution_count": 16,
     "metadata": {},
     "output_type": "execute_result"
    }
   ],
   "source": [
    "p_values = [\n",
    "    p_value(t[r], X[r], n)\n",
    "    for r in ranges\n",
    "]\n",
    "p_values"
   ]
  },
  {
   "cell_type": "markdown",
   "metadata": {},
   "source": [
    "# 7"
   ]
  },
  {
   "cell_type": "markdown",
   "metadata": {},
   "source": [
    "## Conclusion\n",
    "Les p-valeurs indiquent que pendant plusieurs périodes de 30 ans le coefficient angulaire de la régression est différent de zéro (à niveau $\\alpha=0.05$). Notamment, pour toutes périodes s’amorçant après 1960 le coefficient $\\beta_2$ est positif et les p-valeurs sont inférieures à $10^{-7}$. Cela est indicatif d’un réchauffement de la planète pendant les dernières décennies qui correspondent à celles où les émissions de gaz à effet de serre ont été les plus élevées [1]. Cela dit, l'analyse réalisée ne permet pas d'établir un lien de causalité entre ces deux quantités (quoique cette relation ait été établie par d'autres études).\n",
    "\n",
    "[1] - https://ourworldindata.org/co2-dataset-sources"
   ]
  }
 ],
 "metadata": {
  "kernelspec": {
   "display_name": "Python 3.8.8 ('base')",
   "language": "python",
   "name": "python3"
  },
  "language_info": {
   "codemirror_mode": {
    "name": "ipython",
    "version": 3
   },
   "file_extension": ".py",
   "mimetype": "text/x-python",
   "name": "python",
   "nbconvert_exporter": "python",
   "pygments_lexer": "ipython3",
   "version": "3.8.8"
  },
  "orig_nbformat": 4,
  "vscode": {
   "interpreter": {
    "hash": "6841be0e1425757ac9eec34b2c6f490e3642beb3540581c52b3a77b850c12e89"
   }
  }
 },
 "nbformat": 4,
 "nbformat_minor": 2
}
