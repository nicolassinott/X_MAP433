{
 "cells": [
  {
   "cell_type": "code",
   "execution_count": 1,
   "metadata": {},
   "outputs": [],
   "source": [
    "import pandas as pd\n",
    "import statsmodels.api as sm"
   ]
  },
  {
   "cell_type": "markdown",
   "metadata": {},
   "source": [
    "# Premier traitement des données"
   ]
  },
  {
   "cell_type": "code",
   "execution_count": 2,
   "metadata": {},
   "outputs": [],
   "source": [
    "data = pd.read_csv(\"Titanic.csv\")"
   ]
  },
  {
   "cell_type": "code",
   "execution_count": 3,
   "metadata": {},
   "outputs": [
    {
     "data": {
      "text/html": [
       "<div>\n",
       "<style scoped>\n",
       "    .dataframe tbody tr th:only-of-type {\n",
       "        vertical-align: middle;\n",
       "    }\n",
       "\n",
       "    .dataframe tbody tr th {\n",
       "        vertical-align: top;\n",
       "    }\n",
       "\n",
       "    .dataframe thead th {\n",
       "        text-align: right;\n",
       "    }\n",
       "</style>\n",
       "<table border=\"1\" class=\"dataframe\">\n",
       "  <thead>\n",
       "    <tr style=\"text-align: right;\">\n",
       "      <th></th>\n",
       "      <th>PassengerId</th>\n",
       "      <th>Survived</th>\n",
       "      <th>Pclass</th>\n",
       "      <th>Name</th>\n",
       "      <th>Sex</th>\n",
       "      <th>Age</th>\n",
       "      <th>SibSp</th>\n",
       "      <th>Parch</th>\n",
       "      <th>Ticket</th>\n",
       "      <th>Fare</th>\n",
       "      <th>Cabin</th>\n",
       "      <th>Embarked</th>\n",
       "    </tr>\n",
       "  </thead>\n",
       "  <tbody>\n",
       "    <tr>\n",
       "      <th>0</th>\n",
       "      <td>1</td>\n",
       "      <td>0</td>\n",
       "      <td>3</td>\n",
       "      <td>Braund, Mr. Owen Harris</td>\n",
       "      <td>male</td>\n",
       "      <td>22.0</td>\n",
       "      <td>1</td>\n",
       "      <td>0</td>\n",
       "      <td>A/5 21171</td>\n",
       "      <td>7.2500</td>\n",
       "      <td>NaN</td>\n",
       "      <td>S</td>\n",
       "    </tr>\n",
       "    <tr>\n",
       "      <th>1</th>\n",
       "      <td>2</td>\n",
       "      <td>1</td>\n",
       "      <td>1</td>\n",
       "      <td>Cumings, Mrs. John Bradley (Florence Briggs Th...</td>\n",
       "      <td>female</td>\n",
       "      <td>38.0</td>\n",
       "      <td>1</td>\n",
       "      <td>0</td>\n",
       "      <td>PC 17599</td>\n",
       "      <td>71.2833</td>\n",
       "      <td>C85</td>\n",
       "      <td>C</td>\n",
       "    </tr>\n",
       "    <tr>\n",
       "      <th>2</th>\n",
       "      <td>3</td>\n",
       "      <td>1</td>\n",
       "      <td>3</td>\n",
       "      <td>Heikkinen, Miss. Laina</td>\n",
       "      <td>female</td>\n",
       "      <td>26.0</td>\n",
       "      <td>0</td>\n",
       "      <td>0</td>\n",
       "      <td>STON/O2. 3101282</td>\n",
       "      <td>7.9250</td>\n",
       "      <td>NaN</td>\n",
       "      <td>S</td>\n",
       "    </tr>\n",
       "    <tr>\n",
       "      <th>3</th>\n",
       "      <td>4</td>\n",
       "      <td>1</td>\n",
       "      <td>1</td>\n",
       "      <td>Futrelle, Mrs. Jacques Heath (Lily May Peel)</td>\n",
       "      <td>female</td>\n",
       "      <td>35.0</td>\n",
       "      <td>1</td>\n",
       "      <td>0</td>\n",
       "      <td>113803</td>\n",
       "      <td>53.1000</td>\n",
       "      <td>C123</td>\n",
       "      <td>S</td>\n",
       "    </tr>\n",
       "    <tr>\n",
       "      <th>4</th>\n",
       "      <td>5</td>\n",
       "      <td>0</td>\n",
       "      <td>3</td>\n",
       "      <td>Allen, Mr. William Henry</td>\n",
       "      <td>male</td>\n",
       "      <td>35.0</td>\n",
       "      <td>0</td>\n",
       "      <td>0</td>\n",
       "      <td>373450</td>\n",
       "      <td>8.0500</td>\n",
       "      <td>NaN</td>\n",
       "      <td>S</td>\n",
       "    </tr>\n",
       "  </tbody>\n",
       "</table>\n",
       "</div>"
      ],
      "text/plain": [
       "   PassengerId  Survived  Pclass  \\\n",
       "0            1         0       3   \n",
       "1            2         1       1   \n",
       "2            3         1       3   \n",
       "3            4         1       1   \n",
       "4            5         0       3   \n",
       "\n",
       "                                                Name     Sex   Age  SibSp  \\\n",
       "0                            Braund, Mr. Owen Harris    male  22.0      1   \n",
       "1  Cumings, Mrs. John Bradley (Florence Briggs Th...  female  38.0      1   \n",
       "2                             Heikkinen, Miss. Laina  female  26.0      0   \n",
       "3       Futrelle, Mrs. Jacques Heath (Lily May Peel)  female  35.0      1   \n",
       "4                           Allen, Mr. William Henry    male  35.0      0   \n",
       "\n",
       "   Parch            Ticket     Fare Cabin Embarked  \n",
       "0      0         A/5 21171   7.2500   NaN        S  \n",
       "1      0          PC 17599  71.2833   C85        C  \n",
       "2      0  STON/O2. 3101282   7.9250   NaN        S  \n",
       "3      0            113803  53.1000  C123        S  \n",
       "4      0            373450   8.0500   NaN        S  "
      ]
     },
     "execution_count": 3,
     "metadata": {},
     "output_type": "execute_result"
    }
   ],
   "source": [
    "data.head()"
   ]
  },
  {
   "cell_type": "code",
   "execution_count": 4,
   "metadata": {},
   "outputs": [],
   "source": [
    "data_clean = data.drop(columns = [\"PassengerId\", \"Ticket\", \"Cabin\", \"Embarked\"])\n",
    "data_clean['Age'] =  data_clean['Age'].fillna(value = data_clean['Age'].mean())"
   ]
  },
  {
   "cell_type": "code",
   "execution_count": 5,
   "metadata": {},
   "outputs": [
    {
     "name": "stdout",
     "output_type": "stream",
     "text": [
      "(891, 8)\n"
     ]
    },
    {
     "data": {
      "text/html": [
       "<div>\n",
       "<style scoped>\n",
       "    .dataframe tbody tr th:only-of-type {\n",
       "        vertical-align: middle;\n",
       "    }\n",
       "\n",
       "    .dataframe tbody tr th {\n",
       "        vertical-align: top;\n",
       "    }\n",
       "\n",
       "    .dataframe thead th {\n",
       "        text-align: right;\n",
       "    }\n",
       "</style>\n",
       "<table border=\"1\" class=\"dataframe\">\n",
       "  <thead>\n",
       "    <tr style=\"text-align: right;\">\n",
       "      <th></th>\n",
       "      <th>Survived</th>\n",
       "      <th>Pclass</th>\n",
       "      <th>Name</th>\n",
       "      <th>Sex</th>\n",
       "      <th>Age</th>\n",
       "      <th>SibSp</th>\n",
       "      <th>Parch</th>\n",
       "      <th>Fare</th>\n",
       "    </tr>\n",
       "  </thead>\n",
       "  <tbody>\n",
       "    <tr>\n",
       "      <th>0</th>\n",
       "      <td>0</td>\n",
       "      <td>3</td>\n",
       "      <td>Braund, Mr. Owen Harris</td>\n",
       "      <td>male</td>\n",
       "      <td>22.0</td>\n",
       "      <td>1</td>\n",
       "      <td>0</td>\n",
       "      <td>7.2500</td>\n",
       "    </tr>\n",
       "    <tr>\n",
       "      <th>1</th>\n",
       "      <td>1</td>\n",
       "      <td>1</td>\n",
       "      <td>Cumings, Mrs. John Bradley (Florence Briggs Th...</td>\n",
       "      <td>female</td>\n",
       "      <td>38.0</td>\n",
       "      <td>1</td>\n",
       "      <td>0</td>\n",
       "      <td>71.2833</td>\n",
       "    </tr>\n",
       "    <tr>\n",
       "      <th>2</th>\n",
       "      <td>1</td>\n",
       "      <td>3</td>\n",
       "      <td>Heikkinen, Miss. Laina</td>\n",
       "      <td>female</td>\n",
       "      <td>26.0</td>\n",
       "      <td>0</td>\n",
       "      <td>0</td>\n",
       "      <td>7.9250</td>\n",
       "    </tr>\n",
       "    <tr>\n",
       "      <th>3</th>\n",
       "      <td>1</td>\n",
       "      <td>1</td>\n",
       "      <td>Futrelle, Mrs. Jacques Heath (Lily May Peel)</td>\n",
       "      <td>female</td>\n",
       "      <td>35.0</td>\n",
       "      <td>1</td>\n",
       "      <td>0</td>\n",
       "      <td>53.1000</td>\n",
       "    </tr>\n",
       "    <tr>\n",
       "      <th>4</th>\n",
       "      <td>0</td>\n",
       "      <td>3</td>\n",
       "      <td>Allen, Mr. William Henry</td>\n",
       "      <td>male</td>\n",
       "      <td>35.0</td>\n",
       "      <td>0</td>\n",
       "      <td>0</td>\n",
       "      <td>8.0500</td>\n",
       "    </tr>\n",
       "  </tbody>\n",
       "</table>\n",
       "</div>"
      ],
      "text/plain": [
       "   Survived  Pclass                                               Name  \\\n",
       "0         0       3                            Braund, Mr. Owen Harris   \n",
       "1         1       1  Cumings, Mrs. John Bradley (Florence Briggs Th...   \n",
       "2         1       3                             Heikkinen, Miss. Laina   \n",
       "3         1       1       Futrelle, Mrs. Jacques Heath (Lily May Peel)   \n",
       "4         0       3                           Allen, Mr. William Henry   \n",
       "\n",
       "      Sex   Age  SibSp  Parch     Fare  \n",
       "0    male  22.0      1      0   7.2500  \n",
       "1  female  38.0      1      0  71.2833  \n",
       "2  female  26.0      0      0   7.9250  \n",
       "3  female  35.0      1      0  53.1000  \n",
       "4    male  35.0      0      0   8.0500  "
      ]
     },
     "execution_count": 5,
     "metadata": {},
     "output_type": "execute_result"
    }
   ],
   "source": [
    "print(data_clean.shape)\n",
    "data_clean.head()"
   ]
  },
  {
   "cell_type": "markdown",
   "metadata": {},
   "source": [
    "## Exercice 1"
   ]
  },
  {
   "cell_type": "code",
   "execution_count": 6,
   "metadata": {},
   "outputs": [
    {
     "name": "stdout",
     "output_type": "stream",
     "text": [
      "549 passagers sont décédés, ce qui répresente 61.62 % du total.\n",
      "\n"
     ]
    }
   ],
   "source": [
    "alive = data_clean['Survived'].sum()\n",
    "total = data_clean['Survived'].shape[0]\n",
    "\n",
    "print(f\"{total - alive} passagers sont décédés, ce qui répresente {(100 * (total - alive) / total):.2f} % du total.\")\n",
    "print()\n"
   ]
  },
  {
   "cell_type": "markdown",
   "metadata": {},
   "source": [
    "## Exercice 2"
   ]
  },
  {
   "cell_type": "code",
   "execution_count": 7,
   "metadata": {},
   "outputs": [
    {
     "name": "stdout",
     "output_type": "stream",
     "text": [
      "Percentage d'hommes : 64.76 %, percentage de femmes 35.24 %.\n"
     ]
    }
   ],
   "source": [
    "total_man = data_clean.groupby('Sex')['Name'].count()['male']\n",
    "total_woman = data_clean.groupby('Sex')['Name'].count()['female']\n",
    "\n",
    "print(f\"Percentage d'hommes : {(100*total_man/(total_woman+total_man)):.2f} %, percentage de femmes {(100*total_woman/(total_woman+total_man)):.2f} %.\")"
   ]
  },
  {
   "cell_type": "code",
   "execution_count": 8,
   "metadata": {},
   "outputs": [
    {
     "name": "stdout",
     "output_type": "stream",
     "text": [
      "Parmi les personnes décédés, 85.25 % ont été des hommes et 14.75 % des femmes.\n"
     ]
    }
   ],
   "source": [
    "data_clean_dead = data_clean.loc[data_clean['Survived'] == 0]\n",
    "\n",
    "dead_man = data_clean_dead.groupby('Sex')['Name'].count()['male']\n",
    "dead_woman = data_clean_dead.groupby('Sex')['Name'].count()['female']\n",
    "\n",
    "print(f\"Parmi les personnes décédés, {(dead_man/(dead_man + dead_woman)*100):.2f} % ont été des hommes et {(dead_woman/(dead_man + dead_woman)*100):.2f} % des femmes.\")"
   ]
  },
  {
   "cell_type": "code",
   "execution_count": 9,
   "metadata": {},
   "outputs": [
    {
     "name": "stdout",
     "output_type": "stream",
     "text": [
      "Parmi les personnes survivantes, 31.87 % ont été des hommes et 68.13 % des femmes.\n"
     ]
    }
   ],
   "source": [
    "data_clean_alive = data_clean.loc[data_clean['Survived'] == 1]\n",
    "\n",
    "alive_man = data_clean_alive.groupby('Sex')['Name'].count()['male']\n",
    "alive_woman = data_clean_alive.groupby('Sex')['Name'].count()['female']\n",
    "\n",
    "print(f\"Parmi les personnes survivantes, {(alive_man/(alive_man + alive_woman)*100):.2f} % ont été des hommes et {(alive_woman/(alive_man + alive_woman)*100):.2f} % des femmes.\")"
   ]
  },
  {
   "cell_type": "markdown",
   "metadata": {},
   "source": [
    "Observation : Malgré le fait que la majorité de la population du titanic était composé des hommes, on observe que la plupart des personnes qui ont survecu l'accident ont été des femmes (68.13 % contre 31.87 %) et plus d'hommes ont décédé (85.25 % contre 14.75%)."
   ]
  },
  {
   "cell_type": "markdown",
   "metadata": {},
   "source": [
    "## Exercice 3"
   ]
  },
  {
   "cell_type": "code",
   "execution_count": 10,
   "metadata": {},
   "outputs": [
    {
     "name": "stdout",
     "output_type": "stream",
     "text": [
      "Il y avait 216 passagers en première classe (24.24 %), 184 en deuxième (20.65 %) et 491 en troisième (55.11 %).\n"
     ]
    }
   ],
   "source": [
    "n_first = data_clean['Pclass'].value_counts()[1]\n",
    "n_second = data_clean['Pclass'].value_counts()[2]\n",
    "n_third = data_clean['Pclass'].value_counts()[3]\n",
    "\n",
    "n_total = data_clean['Pclass'].count()\n",
    "\n",
    "print(f\"Il y avait {n_first} passagers en première classe ({(100*n_first/n_total):.2f} %), {n_second} en deuxième ({(100*n_second/n_total):.2f} %) et {n_third} en troisième ({(100*n_third/n_total):.2f} %).\")"
   ]
  },
  {
   "cell_type": "code",
   "execution_count": 11,
   "metadata": {},
   "outputs": [
    {
     "name": "stdout",
     "output_type": "stream",
     "text": [
      "Au total : \n",
      "\n",
      "Parmi les personnes décédés, 14.57 % ont été de première classe.\n",
      "Parmi les personnes décédés, 17.67 % ont été de deuxième classe.\n",
      "Parmi les personnes décédés, 67.76 % ont été de troisième classe.\n",
      "\n",
      "On regarde dans une même classe : \n",
      "\n",
      "Parmi les personnes de première classe, 37.04 % sont décédés\n",
      "Parmi les personnes de deuxième classe, 52.72 % sont décédés\n",
      "Parmi les personnes de troisième classe, 75.76 % sont décédés\n"
     ]
    }
   ],
   "source": [
    "total_dead = dead_man + dead_woman\n",
    "\n",
    "dead_first = data_clean_dead.groupby('Pclass')['Name'].count()[1]\n",
    "dead_second = data_clean_dead.groupby('Pclass')['Name'].count()[2]\n",
    "dead_third = data_clean_dead.groupby('Pclass')['Name'].count()[3]\n",
    "\n",
    "print(\"Au total : \\n\")\n",
    "\n",
    "print(f\"Parmi les personnes décédés, {(dead_first/(total_dead)*100):.2f} % ont été de première classe.\")\n",
    "print(f\"Parmi les personnes décédés, {(dead_second/(total_dead)*100):.2f} % ont été de deuxième classe.\")\n",
    "print(f\"Parmi les personnes décédés, {(dead_third/(total_dead)*100):.2f} % ont été de troisième classe.\\n\")\n",
    "\n",
    "print(\"On regarde dans une même classe : \\n\")\n",
    "print(f\"Parmi les personnes de première classe, {(100*dead_first / n_first):.2f} % sont décédés\")\n",
    "print(f\"Parmi les personnes de deuxième classe, {(100*dead_second / n_second):.2f} % sont décédés\")\n",
    "print(f\"Parmi les personnes de troisième classe, {(100*dead_third / n_third):.2f} % sont décédés\")"
   ]
  },
  {
   "cell_type": "code",
   "execution_count": 12,
   "metadata": {},
   "outputs": [
    {
     "name": "stdout",
     "output_type": "stream",
     "text": [
      "Au total : \n",
      "\n",
      "Parmi les personnes qui ont survécu, 39.77 % ont été de première classe.\n",
      "Parmi les personnes qui ont survécu, 25.44 % ont été de deuxième classe.\n",
      "Parmi les personnes qui ont survécu, 34.80 % ont été de troisième classe.\n",
      "\n",
      "On regarde dans une même classe : \n",
      "\n",
      "Parmi les personnes de première classe, 62.96 % ont survécu\n",
      "Parmi les personnes de deuxième classe, 47.28 % ont survécu\n",
      "Parmi les personnes de troisième classe, 24.24 % ont survécu\n"
     ]
    }
   ],
   "source": [
    "total_alive = alive_man + alive_woman\n",
    "\n",
    "alive_first = data_clean_alive.groupby('Pclass')['Name'].count()[1]\n",
    "alive_second = data_clean_alive.groupby('Pclass')['Name'].count()[2]\n",
    "alive_third = data_clean_alive.groupby('Pclass')['Name'].count()[3]\n",
    "\n",
    "print(\"Au total : \\n\")\n",
    "\n",
    "print(f\"Parmi les personnes qui ont survécu, {(alive_first/(total_alive)*100):.2f} % ont été de première classe.\")\n",
    "print(f\"Parmi les personnes qui ont survécu, {(alive_second/(total_alive)*100):.2f} % ont été de deuxième classe.\")\n",
    "print(f\"Parmi les personnes qui ont survécu, {(alive_third/(total_alive)*100):.2f} % ont été de troisième classe.\\n\")\n",
    "\n",
    "print(\"On regarde dans une même classe : \\n\")\n",
    "print(f\"Parmi les personnes de première classe, {(100*alive_first / n_first):.2f} % ont survécu\")\n",
    "print(f\"Parmi les personnes de deuxième classe, {(100*alive_second / n_second):.2f} % ont survécu\")\n",
    "print(f\"Parmi les personnes de troisième classe, {(100*alive_third / n_third):.2f} % ont survécu\")"
   ]
  },
  {
   "cell_type": "markdown",
   "metadata": {},
   "source": [
    "Observations : On observe que la plupart des personnes qui ont survecu ont été dans la première classe (aussi plus grad taux de survie). En plus ce sont ceux qui étaient dans la troisième classe qui sont décédés le plus (aussi plus grand taux de mort)."
   ]
  },
  {
   "cell_type": "markdown",
   "metadata": {},
   "source": [
    "## Exercice 4"
   ]
  },
  {
   "cell_type": "code",
   "execution_count": 13,
   "metadata": {},
   "outputs": [
    {
     "data": {
      "text/html": [
       "<div>\n",
       "<style scoped>\n",
       "    .dataframe tbody tr th:only-of-type {\n",
       "        vertical-align: middle;\n",
       "    }\n",
       "\n",
       "    .dataframe tbody tr th {\n",
       "        vertical-align: top;\n",
       "    }\n",
       "\n",
       "    .dataframe thead th {\n",
       "        text-align: right;\n",
       "    }\n",
       "</style>\n",
       "<table border=\"1\" class=\"dataframe\">\n",
       "  <thead>\n",
       "    <tr style=\"text-align: right;\">\n",
       "      <th></th>\n",
       "      <th>Survived</th>\n",
       "      <th>Sex</th>\n",
       "      <th>Age</th>\n",
       "      <th>SibSp</th>\n",
       "      <th>Parch</th>\n",
       "      <th>Fare</th>\n",
       "      <th>1st Class</th>\n",
       "      <th>2nd Class</th>\n",
       "      <th>3rd Class</th>\n",
       "    </tr>\n",
       "  </thead>\n",
       "  <tbody>\n",
       "    <tr>\n",
       "      <th>Survived</th>\n",
       "      <td>1.000000</td>\n",
       "      <td>-0.543351</td>\n",
       "      <td>-0.069809</td>\n",
       "      <td>-0.035322</td>\n",
       "      <td>0.081629</td>\n",
       "      <td>0.257307</td>\n",
       "      <td>0.285904</td>\n",
       "      <td>0.093349</td>\n",
       "      <td>-0.322308</td>\n",
       "    </tr>\n",
       "    <tr>\n",
       "      <th>Sex</th>\n",
       "      <td>-0.543351</td>\n",
       "      <td>1.000000</td>\n",
       "      <td>0.084153</td>\n",
       "      <td>-0.114631</td>\n",
       "      <td>-0.245489</td>\n",
       "      <td>-0.182333</td>\n",
       "      <td>-0.098013</td>\n",
       "      <td>-0.064746</td>\n",
       "      <td>0.137143</td>\n",
       "    </tr>\n",
       "    <tr>\n",
       "      <th>Age</th>\n",
       "      <td>-0.069809</td>\n",
       "      <td>0.084153</td>\n",
       "      <td>1.000000</td>\n",
       "      <td>-0.232625</td>\n",
       "      <td>-0.179191</td>\n",
       "      <td>0.091566</td>\n",
       "      <td>0.319916</td>\n",
       "      <td>0.006589</td>\n",
       "      <td>-0.281004</td>\n",
       "    </tr>\n",
       "    <tr>\n",
       "      <th>SibSp</th>\n",
       "      <td>-0.035322</td>\n",
       "      <td>-0.114631</td>\n",
       "      <td>-0.232625</td>\n",
       "      <td>1.000000</td>\n",
       "      <td>0.414838</td>\n",
       "      <td>0.159651</td>\n",
       "      <td>-0.054582</td>\n",
       "      <td>-0.055932</td>\n",
       "      <td>0.092548</td>\n",
       "    </tr>\n",
       "    <tr>\n",
       "      <th>Parch</th>\n",
       "      <td>0.081629</td>\n",
       "      <td>-0.245489</td>\n",
       "      <td>-0.179191</td>\n",
       "      <td>0.414838</td>\n",
       "      <td>1.000000</td>\n",
       "      <td>0.216225</td>\n",
       "      <td>-0.017633</td>\n",
       "      <td>-0.000734</td>\n",
       "      <td>0.015790</td>\n",
       "    </tr>\n",
       "    <tr>\n",
       "      <th>Fare</th>\n",
       "      <td>0.257307</td>\n",
       "      <td>-0.182333</td>\n",
       "      <td>0.091566</td>\n",
       "      <td>0.159651</td>\n",
       "      <td>0.216225</td>\n",
       "      <td>1.000000</td>\n",
       "      <td>0.591711</td>\n",
       "      <td>-0.118557</td>\n",
       "      <td>-0.413333</td>\n",
       "    </tr>\n",
       "    <tr>\n",
       "      <th>1st Class</th>\n",
       "      <td>0.285904</td>\n",
       "      <td>-0.098013</td>\n",
       "      <td>0.319916</td>\n",
       "      <td>-0.054582</td>\n",
       "      <td>-0.017633</td>\n",
       "      <td>0.591711</td>\n",
       "      <td>1.000000</td>\n",
       "      <td>-0.288585</td>\n",
       "      <td>-0.626738</td>\n",
       "    </tr>\n",
       "    <tr>\n",
       "      <th>2nd Class</th>\n",
       "      <td>0.093349</td>\n",
       "      <td>-0.064746</td>\n",
       "      <td>0.006589</td>\n",
       "      <td>-0.055932</td>\n",
       "      <td>-0.000734</td>\n",
       "      <td>-0.118557</td>\n",
       "      <td>-0.288585</td>\n",
       "      <td>1.000000</td>\n",
       "      <td>-0.565210</td>\n",
       "    </tr>\n",
       "    <tr>\n",
       "      <th>3rd Class</th>\n",
       "      <td>-0.322308</td>\n",
       "      <td>0.137143</td>\n",
       "      <td>-0.281004</td>\n",
       "      <td>0.092548</td>\n",
       "      <td>0.015790</td>\n",
       "      <td>-0.413333</td>\n",
       "      <td>-0.626738</td>\n",
       "      <td>-0.565210</td>\n",
       "      <td>1.000000</td>\n",
       "    </tr>\n",
       "  </tbody>\n",
       "</table>\n",
       "</div>"
      ],
      "text/plain": [
       "           Survived       Sex       Age     SibSp     Parch      Fare  \\\n",
       "Survived   1.000000 -0.543351 -0.069809 -0.035322  0.081629  0.257307   \n",
       "Sex       -0.543351  1.000000  0.084153 -0.114631 -0.245489 -0.182333   \n",
       "Age       -0.069809  0.084153  1.000000 -0.232625 -0.179191  0.091566   \n",
       "SibSp     -0.035322 -0.114631 -0.232625  1.000000  0.414838  0.159651   \n",
       "Parch      0.081629 -0.245489 -0.179191  0.414838  1.000000  0.216225   \n",
       "Fare       0.257307 -0.182333  0.091566  0.159651  0.216225  1.000000   \n",
       "1st Class  0.285904 -0.098013  0.319916 -0.054582 -0.017633  0.591711   \n",
       "2nd Class  0.093349 -0.064746  0.006589 -0.055932 -0.000734 -0.118557   \n",
       "3rd Class -0.322308  0.137143 -0.281004  0.092548  0.015790 -0.413333   \n",
       "\n",
       "           1st Class  2nd Class  3rd Class  \n",
       "Survived    0.285904   0.093349  -0.322308  \n",
       "Sex        -0.098013  -0.064746   0.137143  \n",
       "Age         0.319916   0.006589  -0.281004  \n",
       "SibSp      -0.054582  -0.055932   0.092548  \n",
       "Parch      -0.017633  -0.000734   0.015790  \n",
       "Fare        0.591711  -0.118557  -0.413333  \n",
       "1st Class   1.000000  -0.288585  -0.626738  \n",
       "2nd Class  -0.288585   1.000000  -0.565210  \n",
       "3rd Class  -0.626738  -0.565210   1.000000  "
      ]
     },
     "metadata": {},
     "output_type": "display_data"
    }
   ],
   "source": [
    "data_clean_corr = data_clean.copy()\n",
    "\n",
    "# Turns Sex into numerical\n",
    "data_clean_corr['Sex'] = data_clean['Sex'].map(lambda x: 1 if x == 'male' else 0)\n",
    "\n",
    "# Creates category columns for Class\n",
    "data_clean_corr = data_clean_corr.join(pd.get_dummies(data_clean_corr['Pclass'])).drop(columns='Pclass')\n",
    "data_clean_corr = data_clean_corr.rename(columns={1: '1st Class', 2: '2nd Class', 3: '3rd Class'})\n",
    "\n",
    "# Covariables\n",
    "covar_names = ['Sex', 'Age', 'SibSp', 'Parch', 'Fare', '1st Class', '2nd Class', '3rd Class']\n",
    "\n",
    "display(data_clean_corr.corr())"
   ]
  },
  {
   "cell_type": "markdown",
   "metadata": {},
   "source": [
    " Nous observons que certaines variables sont fortement corrélées avec le taux de survie, comme, par exemple, le sexe du passager et la classe dans laquele il voyage. Cela suggère que ces variables peuvent être utilisées pour prédire la probabilité de survie d’un passager. De plus, certaines variables sont corrélées entre elles, comme le tarif du billet et la classe (un billet de meilleure classe coûte plus). "
   ]
  },
  {
   "cell_type": "markdown",
   "metadata": {},
   "source": [
    "## Exercice 5"
   ]
  },
  {
   "cell_type": "code",
   "execution_count": 14,
   "metadata": {},
   "outputs": [
    {
     "name": "stdout",
     "output_type": "stream",
     "text": [
      "Optimization terminated successfully.\n",
      "         Current function value: 0.442576\n",
      "         Iterations 6\n",
      "                           Logit Regression Results                           \n",
      "==============================================================================\n",
      "Dep. Variable:               Survived   No. Observations:                  891\n",
      "Model:                          Logit   Df Residuals:                      883\n",
      "Method:                           MLE   Df Model:                            7\n",
      "Date:                Wed, 19 Oct 2022   Pseudo R-squ.:                  0.3354\n",
      "Time:                        23:13:30   Log-Likelihood:                -394.34\n",
      "converged:                       True   LL-Null:                       -593.33\n",
      "Covariance Type:            nonrobust   LLR p-value:                 6.452e-82\n",
      "==============================================================================\n",
      "                 coef    std err          z      P>|z|      [0.025      0.975]\n",
      "------------------------------------------------------------------------------\n",
      "Sex           -2.7609      0.199    -13.856      0.000      -3.151      -2.370\n",
      "Age           -0.0395      0.008     -5.035      0.000      -0.055      -0.024\n",
      "SibSp         -0.3501      0.110     -3.194      0.001      -0.565      -0.135\n",
      "Parch         -0.1133      0.118     -0.964      0.335      -0.344       0.117\n",
      "Fare           0.0030      0.002      1.223      0.221      -0.002       0.008\n",
      "1st Class      3.8409      0.447      8.602      0.000       2.966       4.716\n",
      "2nd Class      2.8177      0.348      8.091      0.000       2.135       3.500\n",
      "3rd Class      1.6910      0.291      5.818      0.000       1.121       2.261\n",
      "==============================================================================\n"
     ]
    }
   ],
   "source": [
    "alpha=.05\n",
    "Xs = data_clean_corr[covar_names]\n",
    "\n",
    "logit_reg = sm.Logit(data_clean_corr[['Survived']], Xs).fit()\n",
    "print(logit_reg.summary())"
   ]
  },
  {
   "cell_type": "code",
   "execution_count": 15,
   "metadata": {},
   "outputs": [
    {
     "data": {
      "text/html": [
       "<div>\n",
       "<style scoped>\n",
       "    .dataframe tbody tr th:only-of-type {\n",
       "        vertical-align: middle;\n",
       "    }\n",
       "\n",
       "    .dataframe tbody tr th {\n",
       "        vertical-align: top;\n",
       "    }\n",
       "\n",
       "    .dataframe thead th {\n",
       "        text-align: right;\n",
       "    }\n",
       "</style>\n",
       "<table border=\"1\" class=\"dataframe\">\n",
       "  <thead>\n",
       "    <tr style=\"text-align: right;\">\n",
       "      <th></th>\n",
       "      <th>5%</th>\n",
       "      <th>95%</th>\n",
       "    </tr>\n",
       "  </thead>\n",
       "  <tbody>\n",
       "    <tr>\n",
       "      <th>Sex</th>\n",
       "      <td>-3.151458</td>\n",
       "      <td>-2.370395</td>\n",
       "    </tr>\n",
       "    <tr>\n",
       "      <th>Age</th>\n",
       "      <td>-0.054863</td>\n",
       "      <td>-0.024117</td>\n",
       "    </tr>\n",
       "    <tr>\n",
       "      <th>SibSp</th>\n",
       "      <td>-0.564915</td>\n",
       "      <td>-0.135246</td>\n",
       "    </tr>\n",
       "    <tr>\n",
       "      <th>Parch</th>\n",
       "      <td>-0.343866</td>\n",
       "      <td>0.117198</td>\n",
       "    </tr>\n",
       "    <tr>\n",
       "      <th>Fare</th>\n",
       "      <td>-0.001804</td>\n",
       "      <td>0.007786</td>\n",
       "    </tr>\n",
       "    <tr>\n",
       "      <th>1st Class</th>\n",
       "      <td>2.965671</td>\n",
       "      <td>4.716044</td>\n",
       "    </tr>\n",
       "    <tr>\n",
       "      <th>2nd Class</th>\n",
       "      <td>2.135153</td>\n",
       "      <td>3.500336</td>\n",
       "    </tr>\n",
       "    <tr>\n",
       "      <th>3rd Class</th>\n",
       "      <td>1.121332</td>\n",
       "      <td>2.260654</td>\n",
       "    </tr>\n",
       "  </tbody>\n",
       "</table>\n",
       "</div>"
      ],
      "text/plain": [
       "                 5%       95%\n",
       "Sex       -3.151458 -2.370395\n",
       "Age       -0.054863 -0.024117\n",
       "SibSp     -0.564915 -0.135246\n",
       "Parch     -0.343866  0.117198\n",
       "Fare      -0.001804  0.007786\n",
       "1st Class  2.965671  4.716044\n",
       "2nd Class  2.135153  3.500336\n",
       "3rd Class  1.121332  2.260654"
      ]
     },
     "execution_count": 15,
     "metadata": {},
     "output_type": "execute_result"
    }
   ],
   "source": [
    "logit_reg.conf_int(alpha).rename({0: '5%', 1: '95%'}, axis=1)"
   ]
  },
  {
   "cell_type": "markdown",
   "metadata": {},
   "source": [
    "Les intervalles de confiance montrent que les variables ‘Parch’ et ‘Fare’ ne sont pas significatives à niveau 5% car ils contiennent zéro."
   ]
  },
  {
   "cell_type": "markdown",
   "metadata": {},
   "source": [
    "## Exercice 6"
   ]
  },
  {
   "cell_type": "code",
   "execution_count": 16,
   "metadata": {},
   "outputs": [
    {
     "name": "stdout",
     "output_type": "stream",
     "text": [
      "Sex          1.165424e-43\n",
      "Age          4.781978e-07\n",
      "SibSp        1.403955e-03\n",
      "Parch        3.352689e-01\n",
      "Fare         2.214914e-01\n",
      "1st Class    7.865927e-18\n",
      "2nd Class    5.929875e-16\n",
      "3rd Class    5.955611e-09\n",
      "dtype: float64\n"
     ]
    }
   ],
   "source": [
    "print(logit_reg.pvalues)"
   ]
  },
  {
   "cell_type": "markdown",
   "metadata": {},
   "source": [
    "Le p-valeur obtenu pour le test sur ‘Parch’ confirme l’observation faite dans l’exercice 5. La haute p-valeur indique que, pour notre modèle, cette variable ne porte pas beaucoup d’information sur le taux de survie."
   ]
  },
  {
   "cell_type": "markdown",
   "metadata": {},
   "source": [
    "## Exercice 7"
   ]
  },
  {
   "cell_type": "code",
   "execution_count": 17,
   "metadata": {},
   "outputs": [
    {
     "name": "stdout",
     "output_type": "stream",
     "text": [
      "Optimization terminated successfully.\n",
      "         Current function value: 0.443106\n",
      "         Iterations 6\n",
      "                           Logit Regression Results                           \n",
      "==============================================================================\n",
      "Dep. Variable:               Survived   No. Observations:                  891\n",
      "Model:                          Logit   Df Residuals:                      884\n",
      "Method:                           MLE   Df Model:                            6\n",
      "Date:                Wed, 19 Oct 2022   Pseudo R-squ.:                  0.3346\n",
      "Time:                        23:13:30   Log-Likelihood:                -394.81\n",
      "converged:                       True   LL-Null:                       -593.33\n",
      "Covariance Type:            nonrobust   LLR p-value:                 1.210e-82\n",
      "==============================================================================\n",
      "                 coef    std err          z      P>|z|      [0.025      0.975]\n",
      "------------------------------------------------------------------------------\n",
      "Sex           -2.7245      0.195    -13.981      0.000      -3.106      -2.343\n",
      "Age           -0.0392      0.008     -5.013      0.000      -0.055      -0.024\n",
      "SibSp         -0.3783      0.106     -3.561      0.000      -0.587      -0.170\n",
      "Fare           0.0025      0.002      1.066      0.286      -0.002       0.007\n",
      "1st Class      3.8158      0.444      8.595      0.000       2.946       4.686\n",
      "2nd Class      2.7664      0.343      8.061      0.000       2.094       3.439\n",
      "3rd Class      1.6340      0.284      5.758      0.000       1.078       2.190\n",
      "==============================================================================\n"
     ]
    }
   ],
   "source": [
    "covars_noparch = covar_names.copy()\n",
    "covars_noparch.remove('Parch')\n",
    "\n",
    "Xs = data_clean_corr[covars_noparch]\n",
    "\n",
    "logit_reg = sm.Logit(data_clean_corr[['Survived']], Xs).fit()\n",
    "print(logit_reg.summary())"
   ]
  },
  {
   "cell_type": "code",
   "execution_count": 18,
   "metadata": {},
   "outputs": [
    {
     "data": {
      "text/html": [
       "<div>\n",
       "<style scoped>\n",
       "    .dataframe tbody tr th:only-of-type {\n",
       "        vertical-align: middle;\n",
       "    }\n",
       "\n",
       "    .dataframe tbody tr th {\n",
       "        vertical-align: top;\n",
       "    }\n",
       "\n",
       "    .dataframe thead th {\n",
       "        text-align: right;\n",
       "    }\n",
       "</style>\n",
       "<table border=\"1\" class=\"dataframe\">\n",
       "  <thead>\n",
       "    <tr style=\"text-align: right;\">\n",
       "      <th></th>\n",
       "      <th>5%</th>\n",
       "      <th>95%</th>\n",
       "    </tr>\n",
       "  </thead>\n",
       "  <tbody>\n",
       "    <tr>\n",
       "      <th>Sex</th>\n",
       "      <td>-3.106472</td>\n",
       "      <td>-2.342584</td>\n",
       "    </tr>\n",
       "    <tr>\n",
       "      <th>Age</th>\n",
       "      <td>-0.054544</td>\n",
       "      <td>-0.023879</td>\n",
       "    </tr>\n",
       "    <tr>\n",
       "      <th>SibSp</th>\n",
       "      <td>-0.586601</td>\n",
       "      <td>-0.170082</td>\n",
       "    </tr>\n",
       "    <tr>\n",
       "      <th>Fare</th>\n",
       "      <td>-0.002077</td>\n",
       "      <td>0.007030</td>\n",
       "    </tr>\n",
       "    <tr>\n",
       "      <th>1st Class</th>\n",
       "      <td>2.945675</td>\n",
       "      <td>4.685900</td>\n",
       "    </tr>\n",
       "    <tr>\n",
       "      <th>2nd Class</th>\n",
       "      <td>2.093773</td>\n",
       "      <td>3.439090</td>\n",
       "    </tr>\n",
       "    <tr>\n",
       "      <th>3rd Class</th>\n",
       "      <td>1.077795</td>\n",
       "      <td>2.190121</td>\n",
       "    </tr>\n",
       "  </tbody>\n",
       "</table>\n",
       "</div>"
      ],
      "text/plain": [
       "                 5%       95%\n",
       "Sex       -3.106472 -2.342584\n",
       "Age       -0.054544 -0.023879\n",
       "SibSp     -0.586601 -0.170082\n",
       "Fare      -0.002077  0.007030\n",
       "1st Class  2.945675  4.685900\n",
       "2nd Class  2.093773  3.439090\n",
       "3rd Class  1.077795  2.190121"
      ]
     },
     "execution_count": 18,
     "metadata": {},
     "output_type": "execute_result"
    }
   ],
   "source": [
    "logit_reg.conf_int(alpha).rename({0: '5%', 1: '95%'}, axis=1)"
   ]
  },
  {
   "cell_type": "markdown",
   "metadata": {},
   "source": [
    "Les nouveaux intervalles de confiance indiquent que la variable ‘Fare’ n’est toujours pas significative à niveau 5%."
   ]
  },
  {
   "cell_type": "markdown",
   "metadata": {},
   "source": [
    "## Exercice 8"
   ]
  },
  {
   "cell_type": "code",
   "execution_count": 19,
   "metadata": {},
   "outputs": [
    {
     "name": "stdout",
     "output_type": "stream",
     "text": [
      "Sex          2.034713e-44\n",
      "Age          5.371748e-07\n",
      "SibSp        3.699590e-04\n",
      "Fare         2.864641e-01\n",
      "1st Class    8.310466e-18\n",
      "2nd Class    7.585026e-16\n",
      "3rd Class    8.501479e-09\n",
      "dtype: float64\n"
     ]
    }
   ],
   "source": [
    "print(logit_reg.pvalues)"
   ]
  },
  {
   "cell_type": "markdown",
   "metadata": {},
   "source": [
    "La p-valeur montre, comme pour ‘Parch’, que ‘Fare’ n’est pas une variable significative pour notre modèle. Cela peut s’expliquer par la forte corrélation entre cette variable et la classe du passager, rendant son utilisation redondante quand la classe est déjà fournie au modèle."
   ]
  },
  {
   "cell_type": "markdown",
   "metadata": {},
   "source": [
    "## Exercice 9"
   ]
  },
  {
   "cell_type": "code",
   "execution_count": 20,
   "metadata": {},
   "outputs": [
    {
     "name": "stdout",
     "output_type": "stream",
     "text": [
      "Optimization terminated successfully.\n",
      "         Current function value: 0.443793\n",
      "         Iterations 6\n",
      "                           Logit Regression Results                           \n",
      "==============================================================================\n",
      "Dep. Variable:               Survived   No. Observations:                  891\n",
      "Model:                          Logit   Df Residuals:                      885\n",
      "Method:                           MLE   Df Model:                            5\n",
      "Date:                Wed, 19 Oct 2022   Pseudo R-squ.:                  0.3336\n",
      "Time:                        23:13:30   Log-Likelihood:                -395.42\n",
      "converged:                       True   LL-Null:                       -593.33\n",
      "Covariance Type:            nonrobust   LLR p-value:                 2.366e-83\n",
      "==============================================================================\n",
      "                 coef    std err          z      P>|z|      [0.025      0.975]\n",
      "------------------------------------------------------------------------------\n",
      "Sex           -2.7402      0.194    -14.110      0.000      -3.121      -2.360\n",
      "Age           -0.0399      0.008     -5.111      0.000      -0.055      -0.025\n",
      "SibSp         -0.3583      0.104     -3.437      0.001      -0.563      -0.154\n",
      "1st Class      4.0274      0.400     10.072      0.000       3.244       4.811\n",
      "2nd Class      2.8376      0.337      8.410      0.000       2.176       3.499\n",
      "3rd Class      1.6796      0.281      5.976      0.000       1.129       2.230\n",
      "==============================================================================\n"
     ]
    }
   ],
   "source": [
    "covars_nofare = covars_noparch.copy()\n",
    "covars_nofare.remove('Fare')\n",
    "\n",
    "Xs = data_clean_corr[covars_nofare]\n",
    "\n",
    "logit_reg = sm.Logit(data_clean_corr[['Survived']], Xs).fit()\n",
    "print(logit_reg.summary())"
   ]
  },
  {
   "cell_type": "code",
   "execution_count": 21,
   "metadata": {},
   "outputs": [
    {
     "data": {
      "text/html": [
       "<div>\n",
       "<style scoped>\n",
       "    .dataframe tbody tr th:only-of-type {\n",
       "        vertical-align: middle;\n",
       "    }\n",
       "\n",
       "    .dataframe tbody tr th {\n",
       "        vertical-align: top;\n",
       "    }\n",
       "\n",
       "    .dataframe thead th {\n",
       "        text-align: right;\n",
       "    }\n",
       "</style>\n",
       "<table border=\"1\" class=\"dataframe\">\n",
       "  <thead>\n",
       "    <tr style=\"text-align: right;\">\n",
       "      <th></th>\n",
       "      <th>5%</th>\n",
       "      <th>95%</th>\n",
       "    </tr>\n",
       "  </thead>\n",
       "  <tbody>\n",
       "    <tr>\n",
       "      <th>Sex</th>\n",
       "      <td>-3.120844</td>\n",
       "      <td>-2.359592</td>\n",
       "    </tr>\n",
       "    <tr>\n",
       "      <th>Age</th>\n",
       "      <td>-0.055136</td>\n",
       "      <td>-0.024570</td>\n",
       "    </tr>\n",
       "    <tr>\n",
       "      <th>SibSp</th>\n",
       "      <td>-0.562530</td>\n",
       "      <td>-0.153989</td>\n",
       "    </tr>\n",
       "    <tr>\n",
       "      <th>1st Class</th>\n",
       "      <td>3.243699</td>\n",
       "      <td>4.811148</td>\n",
       "    </tr>\n",
       "    <tr>\n",
       "      <th>2nd Class</th>\n",
       "      <td>2.176266</td>\n",
       "      <td>3.498922</td>\n",
       "    </tr>\n",
       "    <tr>\n",
       "      <th>3rd Class</th>\n",
       "      <td>1.128785</td>\n",
       "      <td>2.230466</td>\n",
       "    </tr>\n",
       "  </tbody>\n",
       "</table>\n",
       "</div>"
      ],
      "text/plain": [
       "                 5%       95%\n",
       "Sex       -3.120844 -2.359592\n",
       "Age       -0.055136 -0.024570\n",
       "SibSp     -0.562530 -0.153989\n",
       "1st Class  3.243699  4.811148\n",
       "2nd Class  2.176266  3.498922\n",
       "3rd Class  1.128785  2.230466"
      ]
     },
     "execution_count": 21,
     "metadata": {},
     "output_type": "execute_result"
    }
   ],
   "source": [
    "logit_reg.conf_int(alpha).rename({0: '5%', 1: '95%'}, axis=1)"
   ]
  },
  {
   "cell_type": "code",
   "execution_count": 22,
   "metadata": {},
   "outputs": [
    {
     "name": "stdout",
     "output_type": "stream",
     "text": [
      "Sex          3.284395e-45\n",
      "Age          3.206039e-07\n",
      "SibSp        5.871505e-04\n",
      "1st Class    7.353226e-24\n",
      "2nd Class    4.110044e-17\n",
      "3rd Class    2.282220e-09\n",
      "dtype: float64\n"
     ]
    }
   ],
   "source": [
    "print(logit_reg.pvalues)"
   ]
  },
  {
   "cell_type": "markdown",
   "metadata": {},
   "source": [
    "Toutes les variables considérées dans le nouveau modèle ont des coefficients non nuls à niveau 5%. Indiquant que toutes les variables sont importantes pour la prévision du taux de survie."
   ]
  },
  {
   "cell_type": "markdown",
   "metadata": {},
   "source": [
    "## Exercice 10"
   ]
  },
  {
   "cell_type": "code",
   "execution_count": 23,
   "metadata": {},
   "outputs": [
    {
     "name": "stdout",
     "output_type": "stream",
     "text": [
      "Le modele nous dit que:\n",
      "La probabilité de survie de l'homme décrit par la question 10. est de 60.12 %\n",
      "La probabilité de survie de la femme est de 95.89 %\n"
     ]
    }
   ],
   "source": [
    "ex_man = pd.DataFrame(data={'Sex': [1], 'Age': [22], 'SibSp': [0], '1st Class': [1], '2nd Class': [0], '3rd Class': [0]})\n",
    "ex_woman = pd.DataFrame(data={'Sex': [0], 'Age': [22], 'SibSp': [0], '1st Class': [1], '2nd Class': [0], '3rd Class': [0]})\n",
    "\n",
    "p_man = logit_reg.predict(ex_man)[0] \n",
    "p_woman = logit_reg.predict(ex_woman)[0]\n",
    "\n",
    "print(\"Le modele nous dit que:\")\n",
    "print(f\"La probabilité de survie de l'homme décrit par la question 10. est de {p_man * 100:.2f} %\")\n",
    "print(f\"La probabilité de survie de la femme est de {p_woman * 100:.2f} %\")"
   ]
  }
 ],
 "metadata": {
  "kernelspec": {
   "display_name": "Python 3.8.3 ('base')",
   "language": "python",
   "name": "python3"
  },
  "language_info": {
   "codemirror_mode": {
    "name": "ipython",
    "version": 3
   },
   "file_extension": ".py",
   "mimetype": "text/x-python",
   "name": "python",
   "nbconvert_exporter": "python",
   "pygments_lexer": "ipython3",
   "version": "3.8.3"
  },
  "orig_nbformat": 4,
  "vscode": {
   "interpreter": {
    "hash": "ad2bdc8ecc057115af97d19610ffacc2b4e99fae6737bb82f5d7fb13d2f2c186"
   }
  }
 },
 "nbformat": 4,
 "nbformat_minor": 2
}
