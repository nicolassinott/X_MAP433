{
 "cells": [
  {
   "cell_type": "code",
   "execution_count": 1,
   "metadata": {},
   "outputs": [],
   "source": [
    "import pandas as pd\n",
    "import numpy as np\n",
    "\n",
    "import matplotlib.pyplot as plt\n",
    "from  matplotlib.patches import Ellipse\n",
    "\n",
    "from scipy.stats import chi2\n",
    "from scipy.stats import t as student\n",
    "from scipy.stats import f as fisher"
   ]
  },
  {
   "cell_type": "code",
   "execution_count": 2,
   "metadata": {},
   "outputs": [
    {
     "data": {
      "text/html": [
       "<div>\n",
       "<style scoped>\n",
       "    .dataframe tbody tr th:only-of-type {\n",
       "        vertical-align: middle;\n",
       "    }\n",
       "\n",
       "    .dataframe tbody tr th {\n",
       "        vertical-align: top;\n",
       "    }\n",
       "\n",
       "    .dataframe thead th {\n",
       "        text-align: right;\n",
       "    }\n",
       "</style>\n",
       "<table border=\"1\" class=\"dataframe\">\n",
       "  <thead>\n",
       "    <tr style=\"text-align: right;\">\n",
       "      <th></th>\n",
       "      <th>maxO3</th>\n",
       "      <th>T6</th>\n",
       "      <th>T9</th>\n",
       "      <th>T12</th>\n",
       "      <th>T15</th>\n",
       "      <th>T18</th>\n",
       "      <th>Ne6</th>\n",
       "      <th>Ne9</th>\n",
       "      <th>Ne12</th>\n",
       "      <th>Ne15</th>\n",
       "      <th>...</th>\n",
       "      <th>Vdir9</th>\n",
       "      <th>Vvit9</th>\n",
       "      <th>Vdir12</th>\n",
       "      <th>Vvit12</th>\n",
       "      <th>Vdir15</th>\n",
       "      <th>Vvit15</th>\n",
       "      <th>Vdir18</th>\n",
       "      <th>Vvit18</th>\n",
       "      <th>Vx</th>\n",
       "      <th>maxO3v</th>\n",
       "    </tr>\n",
       "  </thead>\n",
       "  <tbody>\n",
       "    <tr>\n",
       "      <th>19950401</th>\n",
       "      <td>47.6</td>\n",
       "      <td>10.1</td>\n",
       "      <td>11.6</td>\n",
       "      <td>13.3</td>\n",
       "      <td>13.6</td>\n",
       "      <td>12.2</td>\n",
       "      <td>8.0</td>\n",
       "      <td>8.0</td>\n",
       "      <td>8.0</td>\n",
       "      <td>8.0</td>\n",
       "      <td>...</td>\n",
       "      <td>290.0</td>\n",
       "      <td>4.0</td>\n",
       "      <td>300.0</td>\n",
       "      <td>4.0</td>\n",
       "      <td>340.0</td>\n",
       "      <td>4.0</td>\n",
       "      <td>20.0</td>\n",
       "      <td>4.0</td>\n",
       "      <td>-3.4641</td>\n",
       "      <td>62.2</td>\n",
       "    </tr>\n",
       "    <tr>\n",
       "      <th>19950402</th>\n",
       "      <td>56.2</td>\n",
       "      <td>9.5</td>\n",
       "      <td>9.4</td>\n",
       "      <td>13.8</td>\n",
       "      <td>17.4</td>\n",
       "      <td>16.3</td>\n",
       "      <td>8.0</td>\n",
       "      <td>8.0</td>\n",
       "      <td>7.0</td>\n",
       "      <td>0.0</td>\n",
       "      <td>...</td>\n",
       "      <td>160.0</td>\n",
       "      <td>2.0</td>\n",
       "      <td>180.0</td>\n",
       "      <td>3.0</td>\n",
       "      <td>110.0</td>\n",
       "      <td>1.0</td>\n",
       "      <td>350.0</td>\n",
       "      <td>2.0</td>\n",
       "      <td>0.0000</td>\n",
       "      <td>47.6</td>\n",
       "    </tr>\n",
       "    <tr>\n",
       "      <th>19950403</th>\n",
       "      <td>61.8</td>\n",
       "      <td>3.6</td>\n",
       "      <td>8.0</td>\n",
       "      <td>16.8</td>\n",
       "      <td>21.5</td>\n",
       "      <td>20.2</td>\n",
       "      <td>4.0</td>\n",
       "      <td>5.0</td>\n",
       "      <td>2.0</td>\n",
       "      <td>2.0</td>\n",
       "      <td>...</td>\n",
       "      <td>20.0</td>\n",
       "      <td>2.0</td>\n",
       "      <td>340.0</td>\n",
       "      <td>1.0</td>\n",
       "      <td>170.0</td>\n",
       "      <td>2.0</td>\n",
       "      <td>170.0</td>\n",
       "      <td>3.0</td>\n",
       "      <td>-0.3420</td>\n",
       "      <td>56.2</td>\n",
       "    </tr>\n",
       "    <tr>\n",
       "      <th>19950404</th>\n",
       "      <td>50.8</td>\n",
       "      <td>9.5</td>\n",
       "      <td>10.5</td>\n",
       "      <td>11.4</td>\n",
       "      <td>12.2</td>\n",
       "      <td>11.4</td>\n",
       "      <td>8.0</td>\n",
       "      <td>7.0</td>\n",
       "      <td>7.0</td>\n",
       "      <td>7.0</td>\n",
       "      <td>...</td>\n",
       "      <td>10.0</td>\n",
       "      <td>4.0</td>\n",
       "      <td>350.0</td>\n",
       "      <td>3.0</td>\n",
       "      <td>350.0</td>\n",
       "      <td>3.0</td>\n",
       "      <td>350.0</td>\n",
       "      <td>4.0</td>\n",
       "      <td>-0.5209</td>\n",
       "      <td>61.8</td>\n",
       "    </tr>\n",
       "    <tr>\n",
       "      <th>19950405</th>\n",
       "      <td>59.8</td>\n",
       "      <td>9.8</td>\n",
       "      <td>10.8</td>\n",
       "      <td>13.8</td>\n",
       "      <td>14.3</td>\n",
       "      <td>13.3</td>\n",
       "      <td>8.0</td>\n",
       "      <td>7.0</td>\n",
       "      <td>8.0</td>\n",
       "      <td>8.0</td>\n",
       "      <td>...</td>\n",
       "      <td>340.0</td>\n",
       "      <td>2.0</td>\n",
       "      <td>280.0</td>\n",
       "      <td>1.0</td>\n",
       "      <td>320.0</td>\n",
       "      <td>3.0</td>\n",
       "      <td>350.0</td>\n",
       "      <td>4.0</td>\n",
       "      <td>-0.9848</td>\n",
       "      <td>50.8</td>\n",
       "    </tr>\n",
       "    <tr>\n",
       "      <th>...</th>\n",
       "      <td>...</td>\n",
       "      <td>...</td>\n",
       "      <td>...</td>\n",
       "      <td>...</td>\n",
       "      <td>...</td>\n",
       "      <td>...</td>\n",
       "      <td>...</td>\n",
       "      <td>...</td>\n",
       "      <td>...</td>\n",
       "      <td>...</td>\n",
       "      <td>...</td>\n",
       "      <td>...</td>\n",
       "      <td>...</td>\n",
       "      <td>...</td>\n",
       "      <td>...</td>\n",
       "      <td>...</td>\n",
       "      <td>...</td>\n",
       "      <td>...</td>\n",
       "      <td>...</td>\n",
       "      <td>...</td>\n",
       "      <td>...</td>\n",
       "    </tr>\n",
       "    <tr>\n",
       "      <th>20020926</th>\n",
       "      <td>76.0</td>\n",
       "      <td>7.0</td>\n",
       "      <td>13.7</td>\n",
       "      <td>17.0</td>\n",
       "      <td>17.9</td>\n",
       "      <td>15.3</td>\n",
       "      <td>4.0</td>\n",
       "      <td>7.0</td>\n",
       "      <td>8.0</td>\n",
       "      <td>7.0</td>\n",
       "      <td>...</td>\n",
       "      <td>290.0</td>\n",
       "      <td>4.0</td>\n",
       "      <td>330.0</td>\n",
       "      <td>5.0</td>\n",
       "      <td>330.0</td>\n",
       "      <td>6.0</td>\n",
       "      <td>330.0</td>\n",
       "      <td>3.0</td>\n",
       "      <td>-2.5000</td>\n",
       "      <td>79.0</td>\n",
       "    </tr>\n",
       "    <tr>\n",
       "      <th>20020927</th>\n",
       "      <td>79.0</td>\n",
       "      <td>10.2</td>\n",
       "      <td>11.5</td>\n",
       "      <td>18.3</td>\n",
       "      <td>20.0</td>\n",
       "      <td>17.1</td>\n",
       "      <td>9.0</td>\n",
       "      <td>9.0</td>\n",
       "      <td>2.0</td>\n",
       "      <td>6.0</td>\n",
       "      <td>...</td>\n",
       "      <td>70.0</td>\n",
       "      <td>2.0</td>\n",
       "      <td>120.0</td>\n",
       "      <td>1.0</td>\n",
       "      <td>90.0</td>\n",
       "      <td>3.0</td>\n",
       "      <td>100.0</td>\n",
       "      <td>2.0</td>\n",
       "      <td>0.8660</td>\n",
       "      <td>76.0</td>\n",
       "    </tr>\n",
       "    <tr>\n",
       "      <th>20020928</th>\n",
       "      <td>91.0</td>\n",
       "      <td>6.2</td>\n",
       "      <td>14.1</td>\n",
       "      <td>19.8</td>\n",
       "      <td>21.1</td>\n",
       "      <td>18.1</td>\n",
       "      <td>0.0</td>\n",
       "      <td>0.0</td>\n",
       "      <td>1.0</td>\n",
       "      <td>2.0</td>\n",
       "      <td>...</td>\n",
       "      <td>120.0</td>\n",
       "      <td>3.0</td>\n",
       "      <td>120.0</td>\n",
       "      <td>4.0</td>\n",
       "      <td>120.0</td>\n",
       "      <td>4.0</td>\n",
       "      <td>100.0</td>\n",
       "      <td>2.0</td>\n",
       "      <td>3.4641</td>\n",
       "      <td>79.0</td>\n",
       "    </tr>\n",
       "    <tr>\n",
       "      <th>20020929</th>\n",
       "      <td>89.0</td>\n",
       "      <td>8.1</td>\n",
       "      <td>14.8</td>\n",
       "      <td>20.4</td>\n",
       "      <td>22.0</td>\n",
       "      <td>18.4</td>\n",
       "      <td>4.0</td>\n",
       "      <td>5.0</td>\n",
       "      <td>5.0</td>\n",
       "      <td>4.0</td>\n",
       "      <td>...</td>\n",
       "      <td>120.0</td>\n",
       "      <td>4.0</td>\n",
       "      <td>130.0</td>\n",
       "      <td>5.0</td>\n",
       "      <td>130.0</td>\n",
       "      <td>4.0</td>\n",
       "      <td>140.0</td>\n",
       "      <td>1.0</td>\n",
       "      <td>3.8302</td>\n",
       "      <td>91.0</td>\n",
       "    </tr>\n",
       "    <tr>\n",
       "      <th>20020930</th>\n",
       "      <td>99.0</td>\n",
       "      <td>9.4</td>\n",
       "      <td>13.8</td>\n",
       "      <td>21.7</td>\n",
       "      <td>24.7</td>\n",
       "      <td>19.8</td>\n",
       "      <td>6.0</td>\n",
       "      <td>6.0</td>\n",
       "      <td>6.0</td>\n",
       "      <td>3.0</td>\n",
       "      <td>...</td>\n",
       "      <td>140.0</td>\n",
       "      <td>2.0</td>\n",
       "      <td>140.0</td>\n",
       "      <td>2.0</td>\n",
       "      <td>120.0</td>\n",
       "      <td>4.0</td>\n",
       "      <td>110.0</td>\n",
       "      <td>3.0</td>\n",
       "      <td>1.2856</td>\n",
       "      <td>89.0</td>\n",
       "    </tr>\n",
       "  </tbody>\n",
       "</table>\n",
       "<p>1366 rows × 23 columns</p>\n",
       "</div>"
      ],
      "text/plain": [
       "          maxO3    T6    T9   T12   T15   T18  Ne6  Ne9  Ne12  Ne15  ...  \\\n",
       "19950401   47.6  10.1  11.6  13.3  13.6  12.2  8.0  8.0   8.0   8.0  ...   \n",
       "19950402   56.2   9.5   9.4  13.8  17.4  16.3  8.0  8.0   7.0   0.0  ...   \n",
       "19950403   61.8   3.6   8.0  16.8  21.5  20.2  4.0  5.0   2.0   2.0  ...   \n",
       "19950404   50.8   9.5  10.5  11.4  12.2  11.4  8.0  7.0   7.0   7.0  ...   \n",
       "19950405   59.8   9.8  10.8  13.8  14.3  13.3  8.0  7.0   8.0   8.0  ...   \n",
       "...         ...   ...   ...   ...   ...   ...  ...  ...   ...   ...  ...   \n",
       "20020926   76.0   7.0  13.7  17.0  17.9  15.3  4.0  7.0   8.0   7.0  ...   \n",
       "20020927   79.0  10.2  11.5  18.3  20.0  17.1  9.0  9.0   2.0   6.0  ...   \n",
       "20020928   91.0   6.2  14.1  19.8  21.1  18.1  0.0  0.0   1.0   2.0  ...   \n",
       "20020929   89.0   8.1  14.8  20.4  22.0  18.4  4.0  5.0   5.0   4.0  ...   \n",
       "20020930   99.0   9.4  13.8  21.7  24.7  19.8  6.0  6.0   6.0   3.0  ...   \n",
       "\n",
       "          Vdir9  Vvit9  Vdir12  Vvit12  Vdir15  Vvit15  Vdir18  Vvit18  \\\n",
       "19950401  290.0    4.0   300.0     4.0   340.0     4.0    20.0     4.0   \n",
       "19950402  160.0    2.0   180.0     3.0   110.0     1.0   350.0     2.0   \n",
       "19950403   20.0    2.0   340.0     1.0   170.0     2.0   170.0     3.0   \n",
       "19950404   10.0    4.0   350.0     3.0   350.0     3.0   350.0     4.0   \n",
       "19950405  340.0    2.0   280.0     1.0   320.0     3.0   350.0     4.0   \n",
       "...         ...    ...     ...     ...     ...     ...     ...     ...   \n",
       "20020926  290.0    4.0   330.0     5.0   330.0     6.0   330.0     3.0   \n",
       "20020927   70.0    2.0   120.0     1.0    90.0     3.0   100.0     2.0   \n",
       "20020928  120.0    3.0   120.0     4.0   120.0     4.0   100.0     2.0   \n",
       "20020929  120.0    4.0   130.0     5.0   130.0     4.0   140.0     1.0   \n",
       "20020930  140.0    2.0   140.0     2.0   120.0     4.0   110.0     3.0   \n",
       "\n",
       "              Vx  maxO3v  \n",
       "19950401 -3.4641    62.2  \n",
       "19950402  0.0000    47.6  \n",
       "19950403 -0.3420    56.2  \n",
       "19950404 -0.5209    61.8  \n",
       "19950405 -0.9848    50.8  \n",
       "...          ...     ...  \n",
       "20020926 -2.5000    79.0  \n",
       "20020927  0.8660    76.0  \n",
       "20020928  3.4641    79.0  \n",
       "20020929  3.8302    91.0  \n",
       "20020930  1.2856    89.0  \n",
       "\n",
       "[1366 rows x 23 columns]"
      ]
     },
     "execution_count": 2,
     "metadata": {},
     "output_type": "execute_result"
    }
   ],
   "source": [
    "df = pd.read_csv(\"ozone_complet.txt\", sep=';').dropna()\n",
    "df"
   ]
  },
  {
   "cell_type": "markdown",
   "metadata": {},
   "source": [
    "## 1)"
   ]
  },
  {
   "cell_type": "code",
   "execution_count": 3,
   "metadata": {},
   "outputs": [
    {
     "data": {
      "text/plain": [
       "matrix([[ 1.44661518],\n",
       "        [ 0.88444208],\n",
       "        [-1.33507028],\n",
       "        [64.66754543]])"
      ]
     },
     "execution_count": 3,
     "metadata": {},
     "output_type": "execute_result"
    }
   ],
   "source": [
    "Y = np.matrix(df.maxO3v).transpose()\n",
    "Z = np.matrix([df.T12, df.Vx, df.Ne12, np.ones((Y.size,))]).transpose().astype(float)\n",
    "\n",
    "n = Y.size\n",
    "p = Z.shape[1]\n",
    "\n",
    "Z_sharp = (Z.transpose() @ Z) ** -1 * Z.transpose()\n",
    "beta_hat = Z_sharp * Y\n",
    "\n",
    "beta_hat"
   ]
  },
  {
   "cell_type": "code",
   "execution_count": 4,
   "metadata": {},
   "outputs": [
    {
     "data": {
      "text/plain": [
       "20.97181272920036"
      ]
     },
     "execution_count": 4,
     "metadata": {},
     "output_type": "execute_result"
    }
   ],
   "source": [
    "epsilon = Y - Z * beta_hat\n",
    "sigma_hat = np.linalg.norm(epsilon) / np.sqrt(n - p)\n",
    "\n",
    "sigma_hat"
   ]
  },
  {
   "cell_type": "markdown",
   "metadata": {},
   "source": [
    "## 2)"
   ]
  },
  {
   "cell_type": "code",
   "execution_count": 5,
   "metadata": {},
   "outputs": [],
   "source": [
    "def one_hot(i, n):\n",
    "    a = np.zeros((n, 1))\n",
    "    a[i] = 1\n",
    "    return a.transpose()\n",
    "\n",
    "def beta_interval(x_t, beta_hat, alpha):\n",
    "    delta = sigma_hat * np.sqrt(x_t * ((Z.transpose() @ Z) ** -1) * x_t.transpose())\n",
    "    quant = student.ppf(1 - alpha / 2, n - p)\n",
    "    \n",
    "    return x_t * beta_hat + delta * np.array([-quant, quant])\n",
    "\n",
    "def sigma_2_interval(sigma_hat, alpha):\n",
    "    quant = np.array([1 / chi2.ppf(1 - alpha / 2, n - p), 1 / chi2.ppf(alpha / 2, n - p)])\n",
    "    return sigma_hat ** 2 * (n - p) * quant"
   ]
  },
  {
   "cell_type": "code",
   "execution_count": 6,
   "metadata": {},
   "outputs": [
    {
     "data": {
      "text/plain": [
       "[matrix([[1.18142349, 1.71180687]]),\n",
       " matrix([[0.52652976, 1.24235439]]),\n",
       " matrix([[-1.93511358, -0.73502697]]),\n",
       " matrix([[57.36033557, 71.97475529]])]"
      ]
     },
     "execution_count": 6,
     "metadata": {},
     "output_type": "execute_result"
    }
   ],
   "source": [
    "alpha = .05\n",
    "beta_intervals = [beta_interval(one_hot(i, p), beta_hat, alpha) for i in range(p)]\n",
    "beta_intervals"
   ]
  },
  {
   "cell_type": "code",
   "execution_count": 7,
   "metadata": {},
   "outputs": [
    {
     "data": {
      "text/plain": [
       "array([20.21303734, 21.79021216])"
      ]
     },
     "execution_count": 7,
     "metadata": {},
     "output_type": "execute_result"
    }
   ],
   "source": [
    "sigma_interval = np.sqrt(sigma_2_interval(sigma_hat, alpha))\n",
    "sigma_interval"
   ]
  },
  {
   "cell_type": "markdown",
   "metadata": {},
   "source": [
    "## 3)"
   ]
  },
  {
   "cell_type": "code",
   "execution_count": 8,
   "metadata": {},
   "outputs": [],
   "source": [
    "def conf_ellip(A, Z, beta_hat, sigma_hat, alpha, rem_zeros=False):\n",
    "    q = A.shape[0]\n",
    "\n",
    "    Z_proj = A @ np.linalg.inv(Z.transpose() @ Z) @ A.transpose()\n",
    "    if rem_zeros:\n",
    "        nzero_rows = np.flatnonzero(~np.all(Z_proj == 0, axis=0))\n",
    "        nzero_cols = np.flatnonzero(~np.all(Z_proj == 0, axis=1))\n",
    "        Z_proj = Z_proj[nzero_rows,:]\n",
    "        Z_proj = Z_proj[:, nzero_cols]\n",
    "\n",
    "    Lambda = np.linalg.inv(Z_proj) / (q * sigma_hat ** 2)\n",
    "    l, v = np.linalg.eig(Lambda)\n",
    "\n",
    "    f1 = fisher.ppf(alpha / 2, q, n - p)\n",
    "    f2 =  fisher.ppf(1 - alpha / 2, q, n - p)\n",
    "\n",
    "    d1 = np.sqrt(f1 / l)\n",
    "    d2 = np.sqrt(f2 / l)\n",
    "\n",
    "    gamma = np.degrees(np.arctan2(v[0, 1], v[0, 0]))\n",
    "    ell1 = (d1[0], d1[1], gamma)\n",
    "    ell2 = (d2[0], d2[1], gamma)\n",
    "\n",
    "    return (ell1, ell2)"
   ]
  },
  {
   "cell_type": "code",
   "execution_count": 9,
   "metadata": {},
   "outputs": [
    {
     "data": {
      "image/png": "[encoded data removed]",
      "text/plain": [
       "<Figure size 640x480 with 1 Axes>"
      ]
     },
     "metadata": {},
     "output_type": "display_data"
    }
   ],
   "source": [
    "A = np.zeros((2, p))\n",
    "A[0, 0] = 1\n",
    "A[1, 1] = 1\n",
    "\n",
    "ell1, ell2 = conf_ellip(A, Z, beta_hat, sigma_hat, alpha, rem_zeros=False)\n",
    "\n",
    "small_obj = Ellipse(beta_hat[:2], *ell1)\n",
    "large_obj = Ellipse(beta_hat[:2], *ell2)\n",
    "\n",
    "ax = plt.gca()\n",
    "ax.add_artist(small_obj)\n",
    "ax.add_artist(large_obj)\n",
    "\n",
    "small_obj.set_fill(False)\n",
    "small_obj.set_edgecolor('cornflowerblue')\n",
    "small_obj.set_linewidth(2)\n",
    "\n",
    "large_obj.set_fill(False)\n",
    "large_obj.set_edgecolor('cornflowerblue')\n",
    "large_obj.set_linewidth(2)\n",
    "\n",
    "ax.set_xlim(-.2 + beta_hat[0], .2 + beta_hat[0])\n",
    "ax.set_ylim(-.4 + beta_hat[1], .4 + beta_hat[1])\n",
    "\n",
    "ax.set_xlabel(\"Beta 1 [-]\")\n",
    "ax.set_ylabel(\"Beta 2 [-]\")\n",
    "\n",
    "ax.grid()\n",
    "\n",
    "plt.show()"
   ]
  },
  {
   "cell_type": "code",
   "execution_count": 10,
   "metadata": {},
   "outputs": [
    {
     "data": {
      "image/png": "[encoded data removed]",
      "text/plain": [
       "<Figure size 640x480 with 1 Axes>"
      ]
     },
     "metadata": {},
     "output_type": "display_data"
    }
   ],
   "source": [
    "q = 3\n",
    "A = np.zeros((q, p))\n",
    "A[0, 0] = 1\n",
    "A[2, 2] = 1\n",
    "\n",
    "ell1, ell2 = conf_ellip(A, Z, beta_hat, sigma_hat, alpha, rem_zeros=True)\n",
    "\n",
    "small_obj = Ellipse(beta_hat[[0,2]], *ell1)\n",
    "large_obj = Ellipse(beta_hat[[0,2]], *ell2)\n",
    "\n",
    "ax = plt.gca()\n",
    "ax.add_artist(small_obj)\n",
    "ax.add_artist(large_obj)\n",
    "\n",
    "small_obj.set_fill(False)\n",
    "small_obj.set_edgecolor('cornflowerblue')\n",
    "small_obj.set_linewidth(2)\n",
    "\n",
    "large_obj.set_fill(False)\n",
    "large_obj.set_edgecolor('cornflowerblue')\n",
    "large_obj.set_linewidth(2)\n",
    "\n",
    "ax.set_xlim(-.25 + beta_hat[0], .25 + beta_hat[0])\n",
    "ax.set_ylim(-.55 + beta_hat[2], .55 + beta_hat[2])\n",
    "\n",
    "ax.set_xlabel(\"Beta 1 [-]\")\n",
    "ax.set_ylabel(\"Beta 3 [-]\")\n",
    "\n",
    "ax.grid()\n",
    "plt.show()"
   ]
  },
  {
   "cell_type": "markdown",
   "metadata": {},
   "source": [
    "## 4)\n",
    "#### (i)\n",
    "La question numéro (i) peut être formulé autrement comme le test d'hypothèse suivant :\n",
    "$$H0 : \\beta_2 = 0\\text{, contre } H1 : \\beta_2 \\neq 0 $$\n",
    "C'est à dire que nous testons si le paramètre qui multiplie $Vx$ est égal à zéro, ce qui indiquerait une non-dépendance de $O3$ par rapport à $Vx$ (une dépendance non-linéaire resterait toujours possible).\n",
    " \n",
    "#### (ii)\n",
    "De même, nous pouvons considérer le test suivant:\n",
    "$$H0 : \\beta_3 = 0\\text{, contre } H1 : \\beta_3 \\neq 0 $$\n",
    " \n",
    " \n",
    "#### (iii)\n",
    "Pour vérifier l'influence par $Vx$ ou $T12$ nous pouvons considérer le test suivant:\n",
    "$$H0 : (\\beta_1, \\beta_3) = 0\\text{, contre } H1 : (\\beta_1, \\beta_3) \\neq 0 $$\n",
    "Où l'hypothèse $H0$ est l'inexistence d'une dépendance lineaire entre $O3$ et ($Vx$, $T12$)"
   ]
  },
  {
   "cell_type": "markdown",
   "metadata": {},
   "source": [
    "## 5)\n",
    "La procédure pour les tests (i) et (ii) découle directement de la formule de l'item 17.\n",
    " \n",
    "Pour le test (iii) nous pouvons utiliser la dualité entre les tests d'hypothèse et les intervalles de confiance. C'est-à-dire, nous vérifions si la région de confiance de $(\\beta_1, \\beta_3)$, à niveau $\\alpha$ égal à celui du test désiré, contient l'origine."
   ]
  },
  {
   "cell_type": "code",
   "execution_count": 11,
   "metadata": {},
   "outputs": [],
   "source": [
    "def test_beta(x, alpha, beta_hat, sigma_hat, Z):\n",
    "    x_t = x.transpose()\n",
    "    delta = sigma_hat * np.sqrt(x_t * ((Z.transpose() @ Z) ** -1) * x)\n",
    "    quant = student.ppf(1 - alpha / 2, n - p)\n",
    "    \n",
    "    return np.abs(beta_hat.transpose() * x) > delta * quant"
   ]
  },
  {
   "cell_type": "code",
   "execution_count": 12,
   "metadata": {},
   "outputs": [],
   "source": [
    "def p_valeur(x, beta_hat, sigma_hat, Z):\n",
    "    x_t = x.transpose()\n",
    "    delta = sigma_hat * np.sqrt(x_t * ((Z.transpose() @ Z) ** -1) * x)\n",
    "\n",
    "    return 2 * (1 - student.cdf((np.abs(beta_hat.transpose() @ x))/(delta), n - p))"
   ]
  },
  {
   "cell_type": "markdown",
   "metadata": {},
   "source": [
    "#### (i)"
   ]
  },
  {
   "cell_type": "code",
   "execution_count": 13,
   "metadata": {},
   "outputs": [
    {
     "name": "stdout",
     "output_type": "stream",
     "text": [
      "H0 rejetée.\n",
      "p-valeur = 1.39301782864365e-06\n"
     ]
    }
   ],
   "source": [
    "if test_beta(one_hot(1, p).transpose(), alpha, beta_hat, sigma_hat, Z):\n",
    "    print(\"H0 rejetée.\")\n",
    "    print(\"p-valeur = \" + str(p_valeur(one_hot(1, p).transpose(), beta_hat, sigma_hat, Z)[0][0]))\n",
    "else:\n",
    "    print(\"H0 acceptée.\")\n",
    "    print(\"p-valeur = \" + str(p_valeur(one_hot(1, p).transpose(), beta_hat, sigma_hat, Z)[0][0]))"
   ]
  },
  {
   "cell_type": "markdown",
   "metadata": {},
   "source": [
    "#### (ii)"
   ]
  },
  {
   "cell_type": "code",
   "execution_count": 14,
   "metadata": {},
   "outputs": [
    {
     "name": "stdout",
     "output_type": "stream",
     "text": [
      "H0 rejetée.\n",
      "p-valeur = 1.3690449021552809e-05\n"
     ]
    }
   ],
   "source": [
    "if test_beta(one_hot(2, p).transpose(), alpha, beta_hat, sigma_hat, Z):\n",
    "    print(\"H0 rejetée.\")\n",
    "    print(\"p-valeur = \" + str(p_valeur(one_hot(2, p).transpose(), beta_hat, sigma_hat, Z)[0][0]))\n",
    "else:\n",
    "    print(\"H0 acceptée.\")\n",
    "    print(\"p-valeur = \" + str(p_valeur(one_hot(2, p).transpose(), beta_hat, sigma_hat, Z)[0][0]))"
   ]
  },
  {
   "cell_type": "markdown",
   "metadata": {},
   "source": [
    "#### (iii)\n",
    "Le deuxième graphique de la question pratique 3 nous montre que l'origine n'est pas comprise dans la région de confiance de $(\\beta_1, \\beta_3)$. Alors, nous rejetons $H0$."
   ]
  },
  {
   "cell_type": "markdown",
   "metadata": {},
   "source": [
    "## 6)\n",
    "En conclusion, les tests montrent que les facteurs $Vx$, $T12$ et $N12$ influencent la valeur de $O3$.\n",
    "\n",
    "Bien sur, ces résultats sont plausibles sous l'hypothèse que $O3$ suit un modèle gaussien linéaire dans les variables explicatives. En considérant des autres types de modèles plus complexes on pourrait arriver a des autres résultat."
   ]
  }
 ],
 "metadata": {
  "kernelspec": {
   "display_name": "Python 3.10.6 64-bit (microsoft store)",
   "language": "python",
   "name": "python3"
  },
  "language_info": {
   "codemirror_mode": {
    "name": "ipython",
    "version": 3
   },
   "file_extension": ".py",
   "mimetype": "text/x-python",
   "name": "python",
   "nbconvert_exporter": "python",
   "pygments_lexer": "ipython3",
   "version": "3.10.7"
  },
  "orig_nbformat": 4,
  "vscode": {
   "interpreter": {
    "hash": "19d762ffc7d2f958e0963c75da0d959adf181f4ac62524ed3e80179df28269f1"
   }
  }
 },
 "nbformat": 4,
 "nbformat_minor": 2
}
